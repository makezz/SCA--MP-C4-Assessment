{
 "cells": [
  {
   "cell_type": "markdown",
   "metadata": {},
   "source": [
    "**Import relevant Python packages"
   ]
  },
  {
   "cell_type": "code",
   "execution_count": 1,
   "metadata": {},
   "outputs": [],
   "source": [
    "import numpy as np\n",
    "import pandas as pd\n",
    "import matplotlib.pyplot as plt\n",
    "import seaborn as sns\n",
    "\n",
    "%matplotlib inline"
   ]
  },
  {
   "cell_type": "markdown",
   "metadata": {},
   "source": [
    "**Load text file using pandas read_csv "
   ]
  },
  {
   "cell_type": "code",
   "execution_count": 2,
   "metadata": {},
   "outputs": [],
   "source": [
    "trainprevloan = pd.read_csv(r'C:\\Users\\User\\Downloads\\trainprevloans.txt')\n",
    "trainperf = pd.read_csv(r'C:\\Users\\User\\Downloads\\trainperf.txt')\n",
    "traindemographics = pd.read_csv(r'C:\\Users\\User\\Downloads\\traindemographics.txt')"
   ]
  },
  {
   "cell_type": "markdown",
   "metadata": {},
   "source": [
    "**check the firt 5 row of the first csv to know how the dataframe looks like"
   ]
  },
  {
   "cell_type": "code",
   "execution_count": 3,
   "metadata": {
    "scrolled": false
   },
   "outputs": [
    {
     "data": {
      "text/html": [
       "<div>\n",
       "<style scoped>\n",
       "    .dataframe tbody tr th:only-of-type {\n",
       "        vertical-align: middle;\n",
       "    }\n",
       "\n",
       "    .dataframe tbody tr th {\n",
       "        vertical-align: top;\n",
       "    }\n",
       "\n",
       "    .dataframe thead th {\n",
       "        text-align: right;\n",
       "    }\n",
       "</style>\n",
       "<table border=\"1\" class=\"dataframe\">\n",
       "  <thead>\n",
       "    <tr style=\"text-align: right;\">\n",
       "      <th></th>\n",
       "      <th>customerid</th>\n",
       "      <th>systemloanid</th>\n",
       "      <th>loannumber</th>\n",
       "      <th>approveddate</th>\n",
       "      <th>creationdate</th>\n",
       "      <th>loanamount</th>\n",
       "      <th>totaldue</th>\n",
       "      <th>termdays</th>\n",
       "      <th>closeddate</th>\n",
       "      <th>referredby</th>\n",
       "      <th>firstduedate</th>\n",
       "      <th>firstrepaiddate</th>\n",
       "    </tr>\n",
       "  </thead>\n",
       "  <tbody>\n",
       "    <tr>\n",
       "      <th>0</th>\n",
       "      <td>8a2a81a74ce8c05d014cfb32a0da1049</td>\n",
       "      <td>301682320</td>\n",
       "      <td>2</td>\n",
       "      <td>2016-08-15 18:22:40.000000</td>\n",
       "      <td>2016-08-15 17:22:32.000000</td>\n",
       "      <td>10000.0</td>\n",
       "      <td>13000.0</td>\n",
       "      <td>30</td>\n",
       "      <td>2016-09-01 16:06:48.000000</td>\n",
       "      <td>NaN</td>\n",
       "      <td>2016-09-14 00:00:00.000000</td>\n",
       "      <td>2016-09-01 15:51:43.000000</td>\n",
       "    </tr>\n",
       "    <tr>\n",
       "      <th>1</th>\n",
       "      <td>8a2a81a74ce8c05d014cfb32a0da1049</td>\n",
       "      <td>301883808</td>\n",
       "      <td>9</td>\n",
       "      <td>2017-04-28 18:39:07.000000</td>\n",
       "      <td>2017-04-28 17:38:53.000000</td>\n",
       "      <td>10000.0</td>\n",
       "      <td>13000.0</td>\n",
       "      <td>30</td>\n",
       "      <td>2017-05-28 14:44:49.000000</td>\n",
       "      <td>NaN</td>\n",
       "      <td>2017-05-30 00:00:00.000000</td>\n",
       "      <td>2017-05-26 00:00:00.000000</td>\n",
       "    </tr>\n",
       "    <tr>\n",
       "      <th>2</th>\n",
       "      <td>8a2a81a74ce8c05d014cfb32a0da1049</td>\n",
       "      <td>301831714</td>\n",
       "      <td>8</td>\n",
       "      <td>2017-03-05 10:56:25.000000</td>\n",
       "      <td>2017-03-05 09:56:19.000000</td>\n",
       "      <td>20000.0</td>\n",
       "      <td>23800.0</td>\n",
       "      <td>30</td>\n",
       "      <td>2017-04-26 22:18:56.000000</td>\n",
       "      <td>NaN</td>\n",
       "      <td>2017-04-04 00:00:00.000000</td>\n",
       "      <td>2017-04-26 22:03:47.000000</td>\n",
       "    </tr>\n",
       "    <tr>\n",
       "      <th>3</th>\n",
       "      <td>8a8588f35438fe12015444567666018e</td>\n",
       "      <td>301861541</td>\n",
       "      <td>5</td>\n",
       "      <td>2017-04-09 18:25:55.000000</td>\n",
       "      <td>2017-04-09 17:25:42.000000</td>\n",
       "      <td>10000.0</td>\n",
       "      <td>11500.0</td>\n",
       "      <td>15</td>\n",
       "      <td>2017-04-24 01:35:52.000000</td>\n",
       "      <td>NaN</td>\n",
       "      <td>2017-04-24 00:00:00.000000</td>\n",
       "      <td>2017-04-24 00:48:43.000000</td>\n",
       "    </tr>\n",
       "    <tr>\n",
       "      <th>4</th>\n",
       "      <td>8a85890754145ace015429211b513e16</td>\n",
       "      <td>301941754</td>\n",
       "      <td>2</td>\n",
       "      <td>2017-06-17 09:29:57.000000</td>\n",
       "      <td>2017-06-17 08:29:50.000000</td>\n",
       "      <td>10000.0</td>\n",
       "      <td>11500.0</td>\n",
       "      <td>15</td>\n",
       "      <td>2017-07-14 21:18:43.000000</td>\n",
       "      <td>NaN</td>\n",
       "      <td>2017-07-03 00:00:00.000000</td>\n",
       "      <td>2017-07-14 21:08:35.000000</td>\n",
       "    </tr>\n",
       "  </tbody>\n",
       "</table>\n",
       "</div>"
      ],
      "text/plain": [
       "                         customerid  systemloanid  loannumber  \\\n",
       "0  8a2a81a74ce8c05d014cfb32a0da1049     301682320           2   \n",
       "1  8a2a81a74ce8c05d014cfb32a0da1049     301883808           9   \n",
       "2  8a2a81a74ce8c05d014cfb32a0da1049     301831714           8   \n",
       "3  8a8588f35438fe12015444567666018e     301861541           5   \n",
       "4  8a85890754145ace015429211b513e16     301941754           2   \n",
       "\n",
       "                 approveddate                creationdate  loanamount  \\\n",
       "0  2016-08-15 18:22:40.000000  2016-08-15 17:22:32.000000     10000.0   \n",
       "1  2017-04-28 18:39:07.000000  2017-04-28 17:38:53.000000     10000.0   \n",
       "2  2017-03-05 10:56:25.000000  2017-03-05 09:56:19.000000     20000.0   \n",
       "3  2017-04-09 18:25:55.000000  2017-04-09 17:25:42.000000     10000.0   \n",
       "4  2017-06-17 09:29:57.000000  2017-06-17 08:29:50.000000     10000.0   \n",
       "\n",
       "   totaldue  termdays                  closeddate referredby  \\\n",
       "0   13000.0        30  2016-09-01 16:06:48.000000        NaN   \n",
       "1   13000.0        30  2017-05-28 14:44:49.000000        NaN   \n",
       "2   23800.0        30  2017-04-26 22:18:56.000000        NaN   \n",
       "3   11500.0        15  2017-04-24 01:35:52.000000        NaN   \n",
       "4   11500.0        15  2017-07-14 21:18:43.000000        NaN   \n",
       "\n",
       "                 firstduedate             firstrepaiddate  \n",
       "0  2016-09-14 00:00:00.000000  2016-09-01 15:51:43.000000  \n",
       "1  2017-05-30 00:00:00.000000  2017-05-26 00:00:00.000000  \n",
       "2  2017-04-04 00:00:00.000000  2017-04-26 22:03:47.000000  \n",
       "3  2017-04-24 00:00:00.000000  2017-04-24 00:48:43.000000  \n",
       "4  2017-07-03 00:00:00.000000  2017-07-14 21:08:35.000000  "
      ]
     },
     "execution_count": 3,
     "metadata": {},
     "output_type": "execute_result"
    }
   ],
   "source": [
    "trainprevloan.head(5)"
   ]
  },
  {
   "cell_type": "markdown",
   "metadata": {},
   "source": [
    "**Check the data type,numbers of columns in the dataframe"
   ]
  },
  {
   "cell_type": "code",
   "execution_count": 4,
   "metadata": {
    "scrolled": true
   },
   "outputs": [
    {
     "name": "stdout",
     "output_type": "stream",
     "text": [
      "<class 'pandas.core.frame.DataFrame'>\n",
      "RangeIndex: 18183 entries, 0 to 18182\n",
      "Data columns (total 12 columns):\n",
      " #   Column           Non-Null Count  Dtype  \n",
      "---  ------           --------------  -----  \n",
      " 0   customerid       18183 non-null  object \n",
      " 1   systemloanid     18183 non-null  int64  \n",
      " 2   loannumber       18183 non-null  int64  \n",
      " 3   approveddate     18183 non-null  object \n",
      " 4   creationdate     18183 non-null  object \n",
      " 5   loanamount       18183 non-null  float64\n",
      " 6   totaldue         18183 non-null  float64\n",
      " 7   termdays         18183 non-null  int64  \n",
      " 8   closeddate       18183 non-null  object \n",
      " 9   referredby       1026 non-null   object \n",
      " 10  firstduedate     18183 non-null  object \n",
      " 11  firstrepaiddate  18183 non-null  object \n",
      "dtypes: float64(2), int64(3), object(7)\n",
      "memory usage: 1.7+ MB\n"
     ]
    }
   ],
   "source": [
    "trainprevloan.info()"
   ]
  },
  {
   "cell_type": "markdown",
   "metadata": {},
   "source": [
    "**check the firt 5 row of the second csv to know how the dataframe looks like"
   ]
  },
  {
   "cell_type": "code",
   "execution_count": 5,
   "metadata": {
    "scrolled": true
   },
   "outputs": [
    {
     "data": {
      "text/html": [
       "<div>\n",
       "<style scoped>\n",
       "    .dataframe tbody tr th:only-of-type {\n",
       "        vertical-align: middle;\n",
       "    }\n",
       "\n",
       "    .dataframe tbody tr th {\n",
       "        vertical-align: top;\n",
       "    }\n",
       "\n",
       "    .dataframe thead th {\n",
       "        text-align: right;\n",
       "    }\n",
       "</style>\n",
       "<table border=\"1\" class=\"dataframe\">\n",
       "  <thead>\n",
       "    <tr style=\"text-align: right;\">\n",
       "      <th></th>\n",
       "      <th>customerid</th>\n",
       "      <th>systemloanid</th>\n",
       "      <th>loannumber</th>\n",
       "      <th>approveddate</th>\n",
       "      <th>creationdate</th>\n",
       "      <th>loanamount</th>\n",
       "      <th>totaldue</th>\n",
       "      <th>termdays</th>\n",
       "      <th>referredby</th>\n",
       "      <th>good_bad_flag</th>\n",
       "    </tr>\n",
       "  </thead>\n",
       "  <tbody>\n",
       "    <tr>\n",
       "      <th>0</th>\n",
       "      <td>8a2a81a74ce8c05d014cfb32a0da1049</td>\n",
       "      <td>301994762</td>\n",
       "      <td>12</td>\n",
       "      <td>2017-07-25 08:22:56.000000</td>\n",
       "      <td>2017-07-25 07:22:47.000000</td>\n",
       "      <td>30000.0</td>\n",
       "      <td>34500.0</td>\n",
       "      <td>30</td>\n",
       "      <td>NaN</td>\n",
       "      <td>Good</td>\n",
       "    </tr>\n",
       "    <tr>\n",
       "      <th>1</th>\n",
       "      <td>8a85886e54beabf90154c0a29ae757c0</td>\n",
       "      <td>301965204</td>\n",
       "      <td>2</td>\n",
       "      <td>2017-07-05 17:04:41.000000</td>\n",
       "      <td>2017-07-05 16:04:18.000000</td>\n",
       "      <td>15000.0</td>\n",
       "      <td>17250.0</td>\n",
       "      <td>30</td>\n",
       "      <td>NaN</td>\n",
       "      <td>Good</td>\n",
       "    </tr>\n",
       "    <tr>\n",
       "      <th>2</th>\n",
       "      <td>8a8588f35438fe12015444567666018e</td>\n",
       "      <td>301966580</td>\n",
       "      <td>7</td>\n",
       "      <td>2017-07-06 14:52:57.000000</td>\n",
       "      <td>2017-07-06 13:52:51.000000</td>\n",
       "      <td>20000.0</td>\n",
       "      <td>22250.0</td>\n",
       "      <td>15</td>\n",
       "      <td>NaN</td>\n",
       "      <td>Good</td>\n",
       "    </tr>\n",
       "    <tr>\n",
       "      <th>3</th>\n",
       "      <td>8a85890754145ace015429211b513e16</td>\n",
       "      <td>301999343</td>\n",
       "      <td>3</td>\n",
       "      <td>2017-07-27 19:00:41.000000</td>\n",
       "      <td>2017-07-27 18:00:35.000000</td>\n",
       "      <td>10000.0</td>\n",
       "      <td>11500.0</td>\n",
       "      <td>15</td>\n",
       "      <td>NaN</td>\n",
       "      <td>Good</td>\n",
       "    </tr>\n",
       "    <tr>\n",
       "      <th>4</th>\n",
       "      <td>8a858970548359cc0154883481981866</td>\n",
       "      <td>301962360</td>\n",
       "      <td>9</td>\n",
       "      <td>2017-07-03 23:42:45.000000</td>\n",
       "      <td>2017-07-03 22:42:39.000000</td>\n",
       "      <td>40000.0</td>\n",
       "      <td>44000.0</td>\n",
       "      <td>30</td>\n",
       "      <td>NaN</td>\n",
       "      <td>Good</td>\n",
       "    </tr>\n",
       "  </tbody>\n",
       "</table>\n",
       "</div>"
      ],
      "text/plain": [
       "                         customerid  systemloanid  loannumber  \\\n",
       "0  8a2a81a74ce8c05d014cfb32a0da1049     301994762          12   \n",
       "1  8a85886e54beabf90154c0a29ae757c0     301965204           2   \n",
       "2  8a8588f35438fe12015444567666018e     301966580           7   \n",
       "3  8a85890754145ace015429211b513e16     301999343           3   \n",
       "4  8a858970548359cc0154883481981866     301962360           9   \n",
       "\n",
       "                 approveddate                creationdate  loanamount  \\\n",
       "0  2017-07-25 08:22:56.000000  2017-07-25 07:22:47.000000     30000.0   \n",
       "1  2017-07-05 17:04:41.000000  2017-07-05 16:04:18.000000     15000.0   \n",
       "2  2017-07-06 14:52:57.000000  2017-07-06 13:52:51.000000     20000.0   \n",
       "3  2017-07-27 19:00:41.000000  2017-07-27 18:00:35.000000     10000.0   \n",
       "4  2017-07-03 23:42:45.000000  2017-07-03 22:42:39.000000     40000.0   \n",
       "\n",
       "   totaldue  termdays referredby good_bad_flag  \n",
       "0   34500.0        30        NaN          Good  \n",
       "1   17250.0        30        NaN          Good  \n",
       "2   22250.0        15        NaN          Good  \n",
       "3   11500.0        15        NaN          Good  \n",
       "4   44000.0        30        NaN          Good  "
      ]
     },
     "execution_count": 5,
     "metadata": {},
     "output_type": "execute_result"
    }
   ],
   "source": [
    "trainperf.head()"
   ]
  },
  {
   "cell_type": "markdown",
   "metadata": {},
   "source": [
    "#check the info"
   ]
  },
  {
   "cell_type": "code",
   "execution_count": 6,
   "metadata": {
    "scrolled": true
   },
   "outputs": [
    {
     "name": "stdout",
     "output_type": "stream",
     "text": [
      "<class 'pandas.core.frame.DataFrame'>\n",
      "RangeIndex: 4368 entries, 0 to 4367\n",
      "Data columns (total 10 columns):\n",
      " #   Column         Non-Null Count  Dtype  \n",
      "---  ------         --------------  -----  \n",
      " 0   customerid     4368 non-null   object \n",
      " 1   systemloanid   4368 non-null   int64  \n",
      " 2   loannumber     4368 non-null   int64  \n",
      " 3   approveddate   4368 non-null   object \n",
      " 4   creationdate   4368 non-null   object \n",
      " 5   loanamount     4368 non-null   float64\n",
      " 6   totaldue       4368 non-null   float64\n",
      " 7   termdays       4368 non-null   int64  \n",
      " 8   referredby     587 non-null    object \n",
      " 9   good_bad_flag  4368 non-null   object \n",
      "dtypes: float64(2), int64(3), object(5)\n",
      "memory usage: 341.4+ KB\n"
     ]
    }
   ],
   "source": [
    "trainperf.info()"
   ]
  },
  {
   "cell_type": "markdown",
   "metadata": {},
   "source": [
    "**check the head() of the third csv to know how the dataframe looks like"
   ]
  },
  {
   "cell_type": "code",
   "execution_count": 7,
   "metadata": {
    "scrolled": false
   },
   "outputs": [
    {
     "data": {
      "text/html": [
       "<div>\n",
       "<style scoped>\n",
       "    .dataframe tbody tr th:only-of-type {\n",
       "        vertical-align: middle;\n",
       "    }\n",
       "\n",
       "    .dataframe tbody tr th {\n",
       "        vertical-align: top;\n",
       "    }\n",
       "\n",
       "    .dataframe thead th {\n",
       "        text-align: right;\n",
       "    }\n",
       "</style>\n",
       "<table border=\"1\" class=\"dataframe\">\n",
       "  <thead>\n",
       "    <tr style=\"text-align: right;\">\n",
       "      <th></th>\n",
       "      <th>customerid</th>\n",
       "      <th>birthdate</th>\n",
       "      <th>bank_account_type</th>\n",
       "      <th>longitude_gps</th>\n",
       "      <th>latitude_gps</th>\n",
       "      <th>bank_name_clients</th>\n",
       "      <th>bank_branch_clients</th>\n",
       "      <th>employment_status_clients</th>\n",
       "      <th>level_of_education_clients</th>\n",
       "    </tr>\n",
       "  </thead>\n",
       "  <tbody>\n",
       "    <tr>\n",
       "      <th>0</th>\n",
       "      <td>8a858e135cb22031015cbafc76964ebd</td>\n",
       "      <td>1973-10-10 00:00:00.000000</td>\n",
       "      <td>Savings</td>\n",
       "      <td>3.319219</td>\n",
       "      <td>6.528604</td>\n",
       "      <td>GT Bank</td>\n",
       "      <td>NaN</td>\n",
       "      <td>NaN</td>\n",
       "      <td>NaN</td>\n",
       "    </tr>\n",
       "    <tr>\n",
       "      <th>1</th>\n",
       "      <td>8a858e275c7ea5ec015c82482d7c3996</td>\n",
       "      <td>1986-01-21 00:00:00.000000</td>\n",
       "      <td>Savings</td>\n",
       "      <td>3.325598</td>\n",
       "      <td>7.119403</td>\n",
       "      <td>Sterling Bank</td>\n",
       "      <td>NaN</td>\n",
       "      <td>Permanent</td>\n",
       "      <td>NaN</td>\n",
       "    </tr>\n",
       "    <tr>\n",
       "      <th>2</th>\n",
       "      <td>8a858e5b5bd99460015bdc95cd485634</td>\n",
       "      <td>1987-04-01 00:00:00.000000</td>\n",
       "      <td>Savings</td>\n",
       "      <td>5.746100</td>\n",
       "      <td>5.563174</td>\n",
       "      <td>Fidelity Bank</td>\n",
       "      <td>NaN</td>\n",
       "      <td>NaN</td>\n",
       "      <td>NaN</td>\n",
       "    </tr>\n",
       "    <tr>\n",
       "      <th>3</th>\n",
       "      <td>8a858efd5ca70688015cabd1f1e94b55</td>\n",
       "      <td>1991-07-19 00:00:00.000000</td>\n",
       "      <td>Savings</td>\n",
       "      <td>3.362850</td>\n",
       "      <td>6.642485</td>\n",
       "      <td>GT Bank</td>\n",
       "      <td>NaN</td>\n",
       "      <td>Permanent</td>\n",
       "      <td>NaN</td>\n",
       "    </tr>\n",
       "    <tr>\n",
       "      <th>4</th>\n",
       "      <td>8a858e785acd3412015acd48f4920d04</td>\n",
       "      <td>1982-11-22 00:00:00.000000</td>\n",
       "      <td>Savings</td>\n",
       "      <td>8.455332</td>\n",
       "      <td>11.971410</td>\n",
       "      <td>GT Bank</td>\n",
       "      <td>NaN</td>\n",
       "      <td>Permanent</td>\n",
       "      <td>NaN</td>\n",
       "    </tr>\n",
       "  </tbody>\n",
       "</table>\n",
       "</div>"
      ],
      "text/plain": [
       "                         customerid                   birthdate  \\\n",
       "0  8a858e135cb22031015cbafc76964ebd  1973-10-10 00:00:00.000000   \n",
       "1  8a858e275c7ea5ec015c82482d7c3996  1986-01-21 00:00:00.000000   \n",
       "2  8a858e5b5bd99460015bdc95cd485634  1987-04-01 00:00:00.000000   \n",
       "3  8a858efd5ca70688015cabd1f1e94b55  1991-07-19 00:00:00.000000   \n",
       "4  8a858e785acd3412015acd48f4920d04  1982-11-22 00:00:00.000000   \n",
       "\n",
       "  bank_account_type  longitude_gps  latitude_gps bank_name_clients  \\\n",
       "0           Savings       3.319219      6.528604           GT Bank   \n",
       "1           Savings       3.325598      7.119403     Sterling Bank   \n",
       "2           Savings       5.746100      5.563174     Fidelity Bank   \n",
       "3           Savings       3.362850      6.642485           GT Bank   \n",
       "4           Savings       8.455332     11.971410           GT Bank   \n",
       "\n",
       "  bank_branch_clients employment_status_clients level_of_education_clients  \n",
       "0                 NaN                       NaN                        NaN  \n",
       "1                 NaN                 Permanent                        NaN  \n",
       "2                 NaN                       NaN                        NaN  \n",
       "3                 NaN                 Permanent                        NaN  \n",
       "4                 NaN                 Permanent                        NaN  "
      ]
     },
     "execution_count": 7,
     "metadata": {},
     "output_type": "execute_result"
    }
   ],
   "source": [
    "traindemographics.head(5)"
   ]
  },
  {
   "cell_type": "markdown",
   "metadata": {},
   "source": [
    "**check info"
   ]
  },
  {
   "cell_type": "code",
   "execution_count": 8,
   "metadata": {
    "scrolled": false
   },
   "outputs": [
    {
     "name": "stdout",
     "output_type": "stream",
     "text": [
      "<class 'pandas.core.frame.DataFrame'>\n",
      "RangeIndex: 4346 entries, 0 to 4345\n",
      "Data columns (total 9 columns):\n",
      " #   Column                      Non-Null Count  Dtype  \n",
      "---  ------                      --------------  -----  \n",
      " 0   customerid                  4346 non-null   object \n",
      " 1   birthdate                   4346 non-null   object \n",
      " 2   bank_account_type           4346 non-null   object \n",
      " 3   longitude_gps               4346 non-null   float64\n",
      " 4   latitude_gps                4346 non-null   float64\n",
      " 5   bank_name_clients           4346 non-null   object \n",
      " 6   bank_branch_clients         51 non-null     object \n",
      " 7   employment_status_clients   3698 non-null   object \n",
      " 8   level_of_education_clients  587 non-null    object \n",
      "dtypes: float64(2), object(7)\n",
      "memory usage: 305.7+ KB\n"
     ]
    }
   ],
   "source": [
    "traindemographics.info()"
   ]
  },
  {
   "cell_type": "markdown",
   "metadata": {},
   "source": [
    "**Merge the first two dataframe using the left merge by customerid column which is present in both dataframe "
   ]
  },
  {
   "cell_type": "code",
   "execution_count": 9,
   "metadata": {},
   "outputs": [],
   "source": [
    "train_per = trainprevloan.merge(trainperf, how = 'left', on = 'customerid')"
   ]
  },
  {
   "cell_type": "markdown",
   "metadata": {},
   "source": [
    "**Check the head"
   ]
  },
  {
   "cell_type": "code",
   "execution_count": 10,
   "metadata": {
    "scrolled": true
   },
   "outputs": [
    {
     "data": {
      "text/html": [
       "<div>\n",
       "<style scoped>\n",
       "    .dataframe tbody tr th:only-of-type {\n",
       "        vertical-align: middle;\n",
       "    }\n",
       "\n",
       "    .dataframe tbody tr th {\n",
       "        vertical-align: top;\n",
       "    }\n",
       "\n",
       "    .dataframe thead th {\n",
       "        text-align: right;\n",
       "    }\n",
       "</style>\n",
       "<table border=\"1\" class=\"dataframe\">\n",
       "  <thead>\n",
       "    <tr style=\"text-align: right;\">\n",
       "      <th></th>\n",
       "      <th>customerid</th>\n",
       "      <th>systemloanid_x</th>\n",
       "      <th>loannumber_x</th>\n",
       "      <th>approveddate_x</th>\n",
       "      <th>creationdate_x</th>\n",
       "      <th>loanamount_x</th>\n",
       "      <th>totaldue_x</th>\n",
       "      <th>termdays_x</th>\n",
       "      <th>closeddate</th>\n",
       "      <th>referredby_x</th>\n",
       "      <th>...</th>\n",
       "      <th>firstrepaiddate</th>\n",
       "      <th>systemloanid_y</th>\n",
       "      <th>loannumber_y</th>\n",
       "      <th>approveddate_y</th>\n",
       "      <th>creationdate_y</th>\n",
       "      <th>loanamount_y</th>\n",
       "      <th>totaldue_y</th>\n",
       "      <th>termdays_y</th>\n",
       "      <th>referredby_y</th>\n",
       "      <th>good_bad_flag</th>\n",
       "    </tr>\n",
       "  </thead>\n",
       "  <tbody>\n",
       "    <tr>\n",
       "      <th>0</th>\n",
       "      <td>8a2a81a74ce8c05d014cfb32a0da1049</td>\n",
       "      <td>301682320</td>\n",
       "      <td>2</td>\n",
       "      <td>2016-08-15 18:22:40.000000</td>\n",
       "      <td>2016-08-15 17:22:32.000000</td>\n",
       "      <td>10000.0</td>\n",
       "      <td>13000.0</td>\n",
       "      <td>30</td>\n",
       "      <td>2016-09-01 16:06:48.000000</td>\n",
       "      <td>NaN</td>\n",
       "      <td>...</td>\n",
       "      <td>2016-09-01 15:51:43.000000</td>\n",
       "      <td>301994762</td>\n",
       "      <td>12</td>\n",
       "      <td>2017-07-25 08:22:56.000000</td>\n",
       "      <td>2017-07-25 07:22:47.000000</td>\n",
       "      <td>30000.0</td>\n",
       "      <td>34500.0</td>\n",
       "      <td>30</td>\n",
       "      <td>NaN</td>\n",
       "      <td>Good</td>\n",
       "    </tr>\n",
       "    <tr>\n",
       "      <th>1</th>\n",
       "      <td>8a2a81a74ce8c05d014cfb32a0da1049</td>\n",
       "      <td>301883808</td>\n",
       "      <td>9</td>\n",
       "      <td>2017-04-28 18:39:07.000000</td>\n",
       "      <td>2017-04-28 17:38:53.000000</td>\n",
       "      <td>10000.0</td>\n",
       "      <td>13000.0</td>\n",
       "      <td>30</td>\n",
       "      <td>2017-05-28 14:44:49.000000</td>\n",
       "      <td>NaN</td>\n",
       "      <td>...</td>\n",
       "      <td>2017-05-26 00:00:00.000000</td>\n",
       "      <td>301994762</td>\n",
       "      <td>12</td>\n",
       "      <td>2017-07-25 08:22:56.000000</td>\n",
       "      <td>2017-07-25 07:22:47.000000</td>\n",
       "      <td>30000.0</td>\n",
       "      <td>34500.0</td>\n",
       "      <td>30</td>\n",
       "      <td>NaN</td>\n",
       "      <td>Good</td>\n",
       "    </tr>\n",
       "    <tr>\n",
       "      <th>2</th>\n",
       "      <td>8a2a81a74ce8c05d014cfb32a0da1049</td>\n",
       "      <td>301831714</td>\n",
       "      <td>8</td>\n",
       "      <td>2017-03-05 10:56:25.000000</td>\n",
       "      <td>2017-03-05 09:56:19.000000</td>\n",
       "      <td>20000.0</td>\n",
       "      <td>23800.0</td>\n",
       "      <td>30</td>\n",
       "      <td>2017-04-26 22:18:56.000000</td>\n",
       "      <td>NaN</td>\n",
       "      <td>...</td>\n",
       "      <td>2017-04-26 22:03:47.000000</td>\n",
       "      <td>301994762</td>\n",
       "      <td>12</td>\n",
       "      <td>2017-07-25 08:22:56.000000</td>\n",
       "      <td>2017-07-25 07:22:47.000000</td>\n",
       "      <td>30000.0</td>\n",
       "      <td>34500.0</td>\n",
       "      <td>30</td>\n",
       "      <td>NaN</td>\n",
       "      <td>Good</td>\n",
       "    </tr>\n",
       "    <tr>\n",
       "      <th>3</th>\n",
       "      <td>8a8588f35438fe12015444567666018e</td>\n",
       "      <td>301861541</td>\n",
       "      <td>5</td>\n",
       "      <td>2017-04-09 18:25:55.000000</td>\n",
       "      <td>2017-04-09 17:25:42.000000</td>\n",
       "      <td>10000.0</td>\n",
       "      <td>11500.0</td>\n",
       "      <td>15</td>\n",
       "      <td>2017-04-24 01:35:52.000000</td>\n",
       "      <td>NaN</td>\n",
       "      <td>...</td>\n",
       "      <td>2017-04-24 00:48:43.000000</td>\n",
       "      <td>301966580</td>\n",
       "      <td>7</td>\n",
       "      <td>2017-07-06 14:52:57.000000</td>\n",
       "      <td>2017-07-06 13:52:51.000000</td>\n",
       "      <td>20000.0</td>\n",
       "      <td>22250.0</td>\n",
       "      <td>15</td>\n",
       "      <td>NaN</td>\n",
       "      <td>Good</td>\n",
       "    </tr>\n",
       "    <tr>\n",
       "      <th>4</th>\n",
       "      <td>8a85890754145ace015429211b513e16</td>\n",
       "      <td>301941754</td>\n",
       "      <td>2</td>\n",
       "      <td>2017-06-17 09:29:57.000000</td>\n",
       "      <td>2017-06-17 08:29:50.000000</td>\n",
       "      <td>10000.0</td>\n",
       "      <td>11500.0</td>\n",
       "      <td>15</td>\n",
       "      <td>2017-07-14 21:18:43.000000</td>\n",
       "      <td>NaN</td>\n",
       "      <td>...</td>\n",
       "      <td>2017-07-14 21:08:35.000000</td>\n",
       "      <td>301999343</td>\n",
       "      <td>3</td>\n",
       "      <td>2017-07-27 19:00:41.000000</td>\n",
       "      <td>2017-07-27 18:00:35.000000</td>\n",
       "      <td>10000.0</td>\n",
       "      <td>11500.0</td>\n",
       "      <td>15</td>\n",
       "      <td>NaN</td>\n",
       "      <td>Good</td>\n",
       "    </tr>\n",
       "  </tbody>\n",
       "</table>\n",
       "<p>5 rows × 21 columns</p>\n",
       "</div>"
      ],
      "text/plain": [
       "                         customerid  systemloanid_x  loannumber_x  \\\n",
       "0  8a2a81a74ce8c05d014cfb32a0da1049       301682320             2   \n",
       "1  8a2a81a74ce8c05d014cfb32a0da1049       301883808             9   \n",
       "2  8a2a81a74ce8c05d014cfb32a0da1049       301831714             8   \n",
       "3  8a8588f35438fe12015444567666018e       301861541             5   \n",
       "4  8a85890754145ace015429211b513e16       301941754             2   \n",
       "\n",
       "               approveddate_x              creationdate_x  loanamount_x  \\\n",
       "0  2016-08-15 18:22:40.000000  2016-08-15 17:22:32.000000       10000.0   \n",
       "1  2017-04-28 18:39:07.000000  2017-04-28 17:38:53.000000       10000.0   \n",
       "2  2017-03-05 10:56:25.000000  2017-03-05 09:56:19.000000       20000.0   \n",
       "3  2017-04-09 18:25:55.000000  2017-04-09 17:25:42.000000       10000.0   \n",
       "4  2017-06-17 09:29:57.000000  2017-06-17 08:29:50.000000       10000.0   \n",
       "\n",
       "   totaldue_x  termdays_x                  closeddate referredby_x  ...  \\\n",
       "0     13000.0          30  2016-09-01 16:06:48.000000          NaN  ...   \n",
       "1     13000.0          30  2017-05-28 14:44:49.000000          NaN  ...   \n",
       "2     23800.0          30  2017-04-26 22:18:56.000000          NaN  ...   \n",
       "3     11500.0          15  2017-04-24 01:35:52.000000          NaN  ...   \n",
       "4     11500.0          15  2017-07-14 21:18:43.000000          NaN  ...   \n",
       "\n",
       "              firstrepaiddate systemloanid_y  loannumber_y  \\\n",
       "0  2016-09-01 15:51:43.000000      301994762            12   \n",
       "1  2017-05-26 00:00:00.000000      301994762            12   \n",
       "2  2017-04-26 22:03:47.000000      301994762            12   \n",
       "3  2017-04-24 00:48:43.000000      301966580             7   \n",
       "4  2017-07-14 21:08:35.000000      301999343             3   \n",
       "\n",
       "               approveddate_y              creationdate_y loanamount_y  \\\n",
       "0  2017-07-25 08:22:56.000000  2017-07-25 07:22:47.000000      30000.0   \n",
       "1  2017-07-25 08:22:56.000000  2017-07-25 07:22:47.000000      30000.0   \n",
       "2  2017-07-25 08:22:56.000000  2017-07-25 07:22:47.000000      30000.0   \n",
       "3  2017-07-06 14:52:57.000000  2017-07-06 13:52:51.000000      20000.0   \n",
       "4  2017-07-27 19:00:41.000000  2017-07-27 18:00:35.000000      10000.0   \n",
       "\n",
       "   totaldue_y  termdays_y  referredby_y good_bad_flag  \n",
       "0     34500.0          30           NaN          Good  \n",
       "1     34500.0          30           NaN          Good  \n",
       "2     34500.0          30           NaN          Good  \n",
       "3     22250.0          15           NaN          Good  \n",
       "4     11500.0          15           NaN          Good  \n",
       "\n",
       "[5 rows x 21 columns]"
      ]
     },
     "execution_count": 10,
     "metadata": {},
     "output_type": "execute_result"
    }
   ],
   "source": [
    "train_per.head()"
   ]
  },
  {
   "cell_type": "markdown",
   "metadata": {},
   "source": [
    "**Merge the third dataframe also using the left merge by customerid"
   ]
  },
  {
   "cell_type": "code",
   "execution_count": 11,
   "metadata": {},
   "outputs": [],
   "source": [
    "df = train_per.merge(traindemographics, how = 'left', on = 'customerid')"
   ]
  },
  {
   "cell_type": "markdown",
   "metadata": {},
   "source": [
    "**Check the df structure"
   ]
  },
  {
   "cell_type": "code",
   "execution_count": 12,
   "metadata": {
    "scrolled": true
   },
   "outputs": [
    {
     "data": {
      "text/html": [
       "<div>\n",
       "<style scoped>\n",
       "    .dataframe tbody tr th:only-of-type {\n",
       "        vertical-align: middle;\n",
       "    }\n",
       "\n",
       "    .dataframe tbody tr th {\n",
       "        vertical-align: top;\n",
       "    }\n",
       "\n",
       "    .dataframe thead th {\n",
       "        text-align: right;\n",
       "    }\n",
       "</style>\n",
       "<table border=\"1\" class=\"dataframe\">\n",
       "  <thead>\n",
       "    <tr style=\"text-align: right;\">\n",
       "      <th></th>\n",
       "      <th>customerid</th>\n",
       "      <th>systemloanid_x</th>\n",
       "      <th>loannumber_x</th>\n",
       "      <th>approveddate_x</th>\n",
       "      <th>creationdate_x</th>\n",
       "      <th>loanamount_x</th>\n",
       "      <th>totaldue_x</th>\n",
       "      <th>termdays_x</th>\n",
       "      <th>closeddate</th>\n",
       "      <th>referredby_x</th>\n",
       "      <th>...</th>\n",
       "      <th>referredby_y</th>\n",
       "      <th>good_bad_flag</th>\n",
       "      <th>birthdate</th>\n",
       "      <th>bank_account_type</th>\n",
       "      <th>longitude_gps</th>\n",
       "      <th>latitude_gps</th>\n",
       "      <th>bank_name_clients</th>\n",
       "      <th>bank_branch_clients</th>\n",
       "      <th>employment_status_clients</th>\n",
       "      <th>level_of_education_clients</th>\n",
       "    </tr>\n",
       "  </thead>\n",
       "  <tbody>\n",
       "    <tr>\n",
       "      <th>0</th>\n",
       "      <td>8a2a81a74ce8c05d014cfb32a0da1049</td>\n",
       "      <td>301682320</td>\n",
       "      <td>2</td>\n",
       "      <td>2016-08-15 18:22:40.000000</td>\n",
       "      <td>2016-08-15 17:22:32.000000</td>\n",
       "      <td>10000.0</td>\n",
       "      <td>13000.0</td>\n",
       "      <td>30</td>\n",
       "      <td>2016-09-01 16:06:48.000000</td>\n",
       "      <td>NaN</td>\n",
       "      <td>...</td>\n",
       "      <td>NaN</td>\n",
       "      <td>Good</td>\n",
       "      <td>1972-01-15 00:00:00.000000</td>\n",
       "      <td>Other</td>\n",
       "      <td>3.43201</td>\n",
       "      <td>6.433055</td>\n",
       "      <td>Diamond Bank</td>\n",
       "      <td>NaN</td>\n",
       "      <td>Permanent</td>\n",
       "      <td>Post-Graduate</td>\n",
       "    </tr>\n",
       "    <tr>\n",
       "      <th>1</th>\n",
       "      <td>8a2a81a74ce8c05d014cfb32a0da1049</td>\n",
       "      <td>301883808</td>\n",
       "      <td>9</td>\n",
       "      <td>2017-04-28 18:39:07.000000</td>\n",
       "      <td>2017-04-28 17:38:53.000000</td>\n",
       "      <td>10000.0</td>\n",
       "      <td>13000.0</td>\n",
       "      <td>30</td>\n",
       "      <td>2017-05-28 14:44:49.000000</td>\n",
       "      <td>NaN</td>\n",
       "      <td>...</td>\n",
       "      <td>NaN</td>\n",
       "      <td>Good</td>\n",
       "      <td>1972-01-15 00:00:00.000000</td>\n",
       "      <td>Other</td>\n",
       "      <td>3.43201</td>\n",
       "      <td>6.433055</td>\n",
       "      <td>Diamond Bank</td>\n",
       "      <td>NaN</td>\n",
       "      <td>Permanent</td>\n",
       "      <td>Post-Graduate</td>\n",
       "    </tr>\n",
       "    <tr>\n",
       "      <th>2</th>\n",
       "      <td>8a2a81a74ce8c05d014cfb32a0da1049</td>\n",
       "      <td>301831714</td>\n",
       "      <td>8</td>\n",
       "      <td>2017-03-05 10:56:25.000000</td>\n",
       "      <td>2017-03-05 09:56:19.000000</td>\n",
       "      <td>20000.0</td>\n",
       "      <td>23800.0</td>\n",
       "      <td>30</td>\n",
       "      <td>2017-04-26 22:18:56.000000</td>\n",
       "      <td>NaN</td>\n",
       "      <td>...</td>\n",
       "      <td>NaN</td>\n",
       "      <td>Good</td>\n",
       "      <td>1972-01-15 00:00:00.000000</td>\n",
       "      <td>Other</td>\n",
       "      <td>3.43201</td>\n",
       "      <td>6.433055</td>\n",
       "      <td>Diamond Bank</td>\n",
       "      <td>NaN</td>\n",
       "      <td>Permanent</td>\n",
       "      <td>Post-Graduate</td>\n",
       "    </tr>\n",
       "    <tr>\n",
       "      <th>3</th>\n",
       "      <td>8a8588f35438fe12015444567666018e</td>\n",
       "      <td>301861541</td>\n",
       "      <td>5</td>\n",
       "      <td>2017-04-09 18:25:55.000000</td>\n",
       "      <td>2017-04-09 17:25:42.000000</td>\n",
       "      <td>10000.0</td>\n",
       "      <td>11500.0</td>\n",
       "      <td>15</td>\n",
       "      <td>2017-04-24 01:35:52.000000</td>\n",
       "      <td>NaN</td>\n",
       "      <td>...</td>\n",
       "      <td>NaN</td>\n",
       "      <td>Good</td>\n",
       "      <td>1984-09-18 00:00:00.000000</td>\n",
       "      <td>Other</td>\n",
       "      <td>11.13935</td>\n",
       "      <td>10.292041</td>\n",
       "      <td>EcoBank</td>\n",
       "      <td>NaN</td>\n",
       "      <td>Permanent</td>\n",
       "      <td>NaN</td>\n",
       "    </tr>\n",
       "    <tr>\n",
       "      <th>4</th>\n",
       "      <td>8a85890754145ace015429211b513e16</td>\n",
       "      <td>301941754</td>\n",
       "      <td>2</td>\n",
       "      <td>2017-06-17 09:29:57.000000</td>\n",
       "      <td>2017-06-17 08:29:50.000000</td>\n",
       "      <td>10000.0</td>\n",
       "      <td>11500.0</td>\n",
       "      <td>15</td>\n",
       "      <td>2017-07-14 21:18:43.000000</td>\n",
       "      <td>NaN</td>\n",
       "      <td>...</td>\n",
       "      <td>NaN</td>\n",
       "      <td>Good</td>\n",
       "      <td>1977-10-10 00:00:00.000000</td>\n",
       "      <td>Savings</td>\n",
       "      <td>3.98577</td>\n",
       "      <td>7.491708</td>\n",
       "      <td>First Bank</td>\n",
       "      <td>NaN</td>\n",
       "      <td>Permanent</td>\n",
       "      <td>NaN</td>\n",
       "    </tr>\n",
       "  </tbody>\n",
       "</table>\n",
       "<p>5 rows × 29 columns</p>\n",
       "</div>"
      ],
      "text/plain": [
       "                         customerid  systemloanid_x  loannumber_x  \\\n",
       "0  8a2a81a74ce8c05d014cfb32a0da1049       301682320             2   \n",
       "1  8a2a81a74ce8c05d014cfb32a0da1049       301883808             9   \n",
       "2  8a2a81a74ce8c05d014cfb32a0da1049       301831714             8   \n",
       "3  8a8588f35438fe12015444567666018e       301861541             5   \n",
       "4  8a85890754145ace015429211b513e16       301941754             2   \n",
       "\n",
       "               approveddate_x              creationdate_x  loanamount_x  \\\n",
       "0  2016-08-15 18:22:40.000000  2016-08-15 17:22:32.000000       10000.0   \n",
       "1  2017-04-28 18:39:07.000000  2017-04-28 17:38:53.000000       10000.0   \n",
       "2  2017-03-05 10:56:25.000000  2017-03-05 09:56:19.000000       20000.0   \n",
       "3  2017-04-09 18:25:55.000000  2017-04-09 17:25:42.000000       10000.0   \n",
       "4  2017-06-17 09:29:57.000000  2017-06-17 08:29:50.000000       10000.0   \n",
       "\n",
       "   totaldue_x  termdays_x                  closeddate referredby_x  ...  \\\n",
       "0     13000.0          30  2016-09-01 16:06:48.000000          NaN  ...   \n",
       "1     13000.0          30  2017-05-28 14:44:49.000000          NaN  ...   \n",
       "2     23800.0          30  2017-04-26 22:18:56.000000          NaN  ...   \n",
       "3     11500.0          15  2017-04-24 01:35:52.000000          NaN  ...   \n",
       "4     11500.0          15  2017-07-14 21:18:43.000000          NaN  ...   \n",
       "\n",
       "  referredby_y good_bad_flag                   birthdate  bank_account_type  \\\n",
       "0          NaN          Good  1972-01-15 00:00:00.000000              Other   \n",
       "1          NaN          Good  1972-01-15 00:00:00.000000              Other   \n",
       "2          NaN          Good  1972-01-15 00:00:00.000000              Other   \n",
       "3          NaN          Good  1984-09-18 00:00:00.000000              Other   \n",
       "4          NaN          Good  1977-10-10 00:00:00.000000            Savings   \n",
       "\n",
       "  longitude_gps latitude_gps  bank_name_clients  bank_branch_clients  \\\n",
       "0       3.43201     6.433055       Diamond Bank                  NaN   \n",
       "1       3.43201     6.433055       Diamond Bank                  NaN   \n",
       "2       3.43201     6.433055       Diamond Bank                  NaN   \n",
       "3      11.13935    10.292041            EcoBank                  NaN   \n",
       "4       3.98577     7.491708         First Bank                  NaN   \n",
       "\n",
       "   employment_status_clients level_of_education_clients  \n",
       "0                  Permanent              Post-Graduate  \n",
       "1                  Permanent              Post-Graduate  \n",
       "2                  Permanent              Post-Graduate  \n",
       "3                  Permanent                        NaN  \n",
       "4                  Permanent                        NaN  \n",
       "\n",
       "[5 rows x 29 columns]"
      ]
     },
     "execution_count": 12,
     "metadata": {},
     "output_type": "execute_result"
    }
   ],
   "source": [
    "df.head()"
   ]
  },
  {
   "cell_type": "markdown",
   "metadata": {},
   "source": [
    "**Check info"
   ]
  },
  {
   "cell_type": "code",
   "execution_count": 13,
   "metadata": {},
   "outputs": [
    {
     "name": "stdout",
     "output_type": "stream",
     "text": [
      "<class 'pandas.core.frame.DataFrame'>\n",
      "Int64Index: 18203 entries, 0 to 18202\n",
      "Data columns (total 29 columns):\n",
      " #   Column                      Non-Null Count  Dtype  \n",
      "---  ------                      --------------  -----  \n",
      " 0   customerid                  18203 non-null  object \n",
      " 1   systemloanid_x              18203 non-null  int64  \n",
      " 2   loannumber_x                18203 non-null  int64  \n",
      " 3   approveddate_x              18203 non-null  object \n",
      " 4   creationdate_x              18203 non-null  object \n",
      " 5   loanamount_x                18203 non-null  float64\n",
      " 6   totaldue_x                  18203 non-null  float64\n",
      " 7   termdays_x                  18203 non-null  int64  \n",
      " 8   closeddate                  18203 non-null  object \n",
      " 9   referredby_x                1028 non-null   object \n",
      " 10  firstduedate                18203 non-null  object \n",
      " 11  firstrepaiddate             18203 non-null  object \n",
      " 12  systemloanid_y              18203 non-null  int64  \n",
      " 13  loannumber_y                18203 non-null  int64  \n",
      " 14  approveddate_y              18203 non-null  object \n",
      " 15  creationdate_y              18203 non-null  object \n",
      " 16  loanamount_y                18203 non-null  float64\n",
      " 17  totaldue_y                  18203 non-null  float64\n",
      " 18  termdays_y                  18203 non-null  int64  \n",
      " 19  referredby_y                1028 non-null   object \n",
      " 20  good_bad_flag               18203 non-null  object \n",
      " 21  birthdate                   13693 non-null  object \n",
      " 22  bank_account_type           13693 non-null  object \n",
      " 23  longitude_gps               13693 non-null  float64\n",
      " 24  latitude_gps                13693 non-null  float64\n",
      " 25  bank_name_clients           13693 non-null  object \n",
      " 26  bank_branch_clients         104 non-null    object \n",
      " 27  employment_status_clients   12330 non-null  object \n",
      " 28  level_of_education_clients  3464 non-null   object \n",
      "dtypes: float64(6), int64(6), object(17)\n",
      "memory usage: 4.2+ MB\n"
     ]
    }
   ],
   "source": [
    "df.info()"
   ]
  },
  {
   "cell_type": "markdown",
   "metadata": {},
   "source": [
    "**Rename customerid using a unique id"
   ]
  },
  {
   "cell_type": "code",
   "execution_count": 14,
   "metadata": {},
   "outputs": [],
   "source": [
    "customer_id = (np.arange(df.customerid.nunique()) + 1)\n"
   ]
  },
  {
   "cell_type": "code",
   "execution_count": 15,
   "metadata": {},
   "outputs": [],
   "source": [
    "customer_uniqueid = np.char.add(\"customer_\",customer_id.astype(\"str\"))\n"
   ]
  },
  {
   "cell_type": "code",
   "execution_count": 16,
   "metadata": {},
   "outputs": [
    {
     "data": {
      "text/plain": [
       "array(['customer_1', 'customer_2', 'customer_3', ..., 'customer_4357',\n",
       "       'customer_4358', 'customer_4359'], dtype='<U20')"
      ]
     },
     "execution_count": 16,
     "metadata": {},
     "output_type": "execute_result"
    }
   ],
   "source": [
    "customer_uniqueid"
   ]
  },
  {
   "cell_type": "code",
   "execution_count": 17,
   "metadata": {
    "scrolled": true
   },
   "outputs": [
    {
     "name": "stdout",
     "output_type": "stream",
     "text": [
      "\n",
      "[('8a2a81a74ce8c05d014cfb32a0da1049', 'customer_1'), ('8a8588f35438fe12015444567666018e', 'customer_2'), ('8a85890754145ace015429211b513e16', 'customer_3'), ('8a858970548359cc0154883481981866', 'customer_4'), ('8a8589f35451855401546b0738c42524', 'customer_5')]\n"
     ]
    }
   ],
   "source": [
    "customer_id_dict = dict(zip(df.customerid.unique(),customer_uniqueid))\n",
    "print()\n",
    "print(list(customer_id_dict.items())[:5])"
   ]
  },
  {
   "cell_type": "markdown",
   "metadata": {},
   "source": [
    "**Mapping the customer unique id to df"
   ]
  },
  {
   "cell_type": "code",
   "execution_count": 18,
   "metadata": {},
   "outputs": [],
   "source": [
    "df[\"customer_id\"] = df[\"customerid\"].map(customer_id_dict)"
   ]
  },
  {
   "cell_type": "markdown",
   "metadata": {},
   "source": [
    "**Drop irrelevant columns"
   ]
  },
  {
   "cell_type": "code",
   "execution_count": 19,
   "metadata": {},
   "outputs": [],
   "source": [
    "df.drop(['customerid','systemloanid_x', 'referredby_x', 'systemloanid_y', 'referredby_y', 'longitude_gps', 'latitude_gps'], inplace = True, axis = 1) "
   ]
  },
  {
   "cell_type": "code",
   "execution_count": 20,
   "metadata": {},
   "outputs": [
    {
     "name": "stdout",
     "output_type": "stream",
     "text": [
      "<class 'pandas.core.frame.DataFrame'>\n",
      "Int64Index: 18203 entries, 0 to 18202\n",
      "Data columns (total 23 columns):\n",
      " #   Column                      Non-Null Count  Dtype  \n",
      "---  ------                      --------------  -----  \n",
      " 0   loannumber_x                18203 non-null  int64  \n",
      " 1   approveddate_x              18203 non-null  object \n",
      " 2   creationdate_x              18203 non-null  object \n",
      " 3   loanamount_x                18203 non-null  float64\n",
      " 4   totaldue_x                  18203 non-null  float64\n",
      " 5   termdays_x                  18203 non-null  int64  \n",
      " 6   closeddate                  18203 non-null  object \n",
      " 7   firstduedate                18203 non-null  object \n",
      " 8   firstrepaiddate             18203 non-null  object \n",
      " 9   loannumber_y                18203 non-null  int64  \n",
      " 10  approveddate_y              18203 non-null  object \n",
      " 11  creationdate_y              18203 non-null  object \n",
      " 12  loanamount_y                18203 non-null  float64\n",
      " 13  totaldue_y                  18203 non-null  float64\n",
      " 14  termdays_y                  18203 non-null  int64  \n",
      " 15  good_bad_flag               18203 non-null  object \n",
      " 16  birthdate                   13693 non-null  object \n",
      " 17  bank_account_type           13693 non-null  object \n",
      " 18  bank_name_clients           13693 non-null  object \n",
      " 19  bank_branch_clients         104 non-null    object \n",
      " 20  employment_status_clients   12330 non-null  object \n",
      " 21  level_of_education_clients  3464 non-null   object \n",
      " 22  customer_id                 18203 non-null  object \n",
      "dtypes: float64(4), int64(4), object(15)\n",
      "memory usage: 3.3+ MB\n"
     ]
    }
   ],
   "source": [
    "df.info()"
   ]
  },
  {
   "cell_type": "markdown",
   "metadata": {},
   "source": [
    "**Reorder columns"
   ]
  },
  {
   "cell_type": "code",
   "execution_count": 21,
   "metadata": {},
   "outputs": [],
   "source": [
    "df =df[['customer_id','loannumber_x', 'approveddate_x','creationdate_x', 'loanamount_x', \n",
    "        'totaldue_x', 'termdays_x','closeddate', 'firstduedate', 'firstrepaiddate', 'loannumber_y', \n",
    "        'approveddate_y', 'creationdate_y','loanamount_y', 'totaldue_y', 'termdays_y',\n",
    "       'good_bad_flag', 'birthdate', 'bank_account_type','bank_name_clients', 'bank_branch_clients',\n",
    "       'employment_status_clients', 'level_of_education_clients']]"
   ]
  },
  {
   "cell_type": "markdown",
   "metadata": {},
   "source": [
    "**Change Data type of columns with date stamps"
   ]
  },
  {
   "cell_type": "code",
   "execution_count": 22,
   "metadata": {},
   "outputs": [],
   "source": [
    "df[['approveddate_x','creationdate_x','closeddate','firstduedate', 'firstrepaiddate','approveddate_y', 'creationdate_y', 'birthdate']] =\\\n",
    "df[['approveddate_x','creationdate_x','closeddate','firstduedate', 'firstrepaiddate','approveddate_y', 'creationdate_y', 'birthdate']].apply(pd.to_datetime, format = \"%Y-%m-%d %H:%M:%S.%f\")"
   ]
  },
  {
   "cell_type": "markdown",
   "metadata": {},
   "source": [
    "**Make a copy of the dataframe to work with"
   ]
  },
  {
   "cell_type": "code",
   "execution_count": 23,
   "metadata": {},
   "outputs": [],
   "source": [
    "data = df.copy()"
   ]
  },
  {
   "cell_type": "markdown",
   "metadata": {},
   "source": [
    "**Check the head of the copy"
   ]
  },
  {
   "cell_type": "code",
   "execution_count": 24,
   "metadata": {
    "scrolled": true
   },
   "outputs": [
    {
     "data": {
      "text/html": [
       "<div>\n",
       "<style scoped>\n",
       "    .dataframe tbody tr th:only-of-type {\n",
       "        vertical-align: middle;\n",
       "    }\n",
       "\n",
       "    .dataframe tbody tr th {\n",
       "        vertical-align: top;\n",
       "    }\n",
       "\n",
       "    .dataframe thead th {\n",
       "        text-align: right;\n",
       "    }\n",
       "</style>\n",
       "<table border=\"1\" class=\"dataframe\">\n",
       "  <thead>\n",
       "    <tr style=\"text-align: right;\">\n",
       "      <th></th>\n",
       "      <th>customer_id</th>\n",
       "      <th>loannumber_x</th>\n",
       "      <th>approveddate_x</th>\n",
       "      <th>creationdate_x</th>\n",
       "      <th>loanamount_x</th>\n",
       "      <th>totaldue_x</th>\n",
       "      <th>termdays_x</th>\n",
       "      <th>closeddate</th>\n",
       "      <th>firstduedate</th>\n",
       "      <th>firstrepaiddate</th>\n",
       "      <th>...</th>\n",
       "      <th>loanamount_y</th>\n",
       "      <th>totaldue_y</th>\n",
       "      <th>termdays_y</th>\n",
       "      <th>good_bad_flag</th>\n",
       "      <th>birthdate</th>\n",
       "      <th>bank_account_type</th>\n",
       "      <th>bank_name_clients</th>\n",
       "      <th>bank_branch_clients</th>\n",
       "      <th>employment_status_clients</th>\n",
       "      <th>level_of_education_clients</th>\n",
       "    </tr>\n",
       "  </thead>\n",
       "  <tbody>\n",
       "    <tr>\n",
       "      <th>0</th>\n",
       "      <td>customer_1</td>\n",
       "      <td>2</td>\n",
       "      <td>2016-08-15 18:22:40</td>\n",
       "      <td>2016-08-15 17:22:32</td>\n",
       "      <td>10000.0</td>\n",
       "      <td>13000.0</td>\n",
       "      <td>30</td>\n",
       "      <td>2016-09-01 16:06:48</td>\n",
       "      <td>2016-09-14</td>\n",
       "      <td>2016-09-01 15:51:43</td>\n",
       "      <td>...</td>\n",
       "      <td>30000.0</td>\n",
       "      <td>34500.0</td>\n",
       "      <td>30</td>\n",
       "      <td>Good</td>\n",
       "      <td>1972-01-15</td>\n",
       "      <td>Other</td>\n",
       "      <td>Diamond Bank</td>\n",
       "      <td>NaN</td>\n",
       "      <td>Permanent</td>\n",
       "      <td>Post-Graduate</td>\n",
       "    </tr>\n",
       "    <tr>\n",
       "      <th>1</th>\n",
       "      <td>customer_1</td>\n",
       "      <td>9</td>\n",
       "      <td>2017-04-28 18:39:07</td>\n",
       "      <td>2017-04-28 17:38:53</td>\n",
       "      <td>10000.0</td>\n",
       "      <td>13000.0</td>\n",
       "      <td>30</td>\n",
       "      <td>2017-05-28 14:44:49</td>\n",
       "      <td>2017-05-30</td>\n",
       "      <td>2017-05-26 00:00:00</td>\n",
       "      <td>...</td>\n",
       "      <td>30000.0</td>\n",
       "      <td>34500.0</td>\n",
       "      <td>30</td>\n",
       "      <td>Good</td>\n",
       "      <td>1972-01-15</td>\n",
       "      <td>Other</td>\n",
       "      <td>Diamond Bank</td>\n",
       "      <td>NaN</td>\n",
       "      <td>Permanent</td>\n",
       "      <td>Post-Graduate</td>\n",
       "    </tr>\n",
       "    <tr>\n",
       "      <th>2</th>\n",
       "      <td>customer_1</td>\n",
       "      <td>8</td>\n",
       "      <td>2017-03-05 10:56:25</td>\n",
       "      <td>2017-03-05 09:56:19</td>\n",
       "      <td>20000.0</td>\n",
       "      <td>23800.0</td>\n",
       "      <td>30</td>\n",
       "      <td>2017-04-26 22:18:56</td>\n",
       "      <td>2017-04-04</td>\n",
       "      <td>2017-04-26 22:03:47</td>\n",
       "      <td>...</td>\n",
       "      <td>30000.0</td>\n",
       "      <td>34500.0</td>\n",
       "      <td>30</td>\n",
       "      <td>Good</td>\n",
       "      <td>1972-01-15</td>\n",
       "      <td>Other</td>\n",
       "      <td>Diamond Bank</td>\n",
       "      <td>NaN</td>\n",
       "      <td>Permanent</td>\n",
       "      <td>Post-Graduate</td>\n",
       "    </tr>\n",
       "    <tr>\n",
       "      <th>3</th>\n",
       "      <td>customer_2</td>\n",
       "      <td>5</td>\n",
       "      <td>2017-04-09 18:25:55</td>\n",
       "      <td>2017-04-09 17:25:42</td>\n",
       "      <td>10000.0</td>\n",
       "      <td>11500.0</td>\n",
       "      <td>15</td>\n",
       "      <td>2017-04-24 01:35:52</td>\n",
       "      <td>2017-04-24</td>\n",
       "      <td>2017-04-24 00:48:43</td>\n",
       "      <td>...</td>\n",
       "      <td>20000.0</td>\n",
       "      <td>22250.0</td>\n",
       "      <td>15</td>\n",
       "      <td>Good</td>\n",
       "      <td>1984-09-18</td>\n",
       "      <td>Other</td>\n",
       "      <td>EcoBank</td>\n",
       "      <td>NaN</td>\n",
       "      <td>Permanent</td>\n",
       "      <td>NaN</td>\n",
       "    </tr>\n",
       "    <tr>\n",
       "      <th>4</th>\n",
       "      <td>customer_3</td>\n",
       "      <td>2</td>\n",
       "      <td>2017-06-17 09:29:57</td>\n",
       "      <td>2017-06-17 08:29:50</td>\n",
       "      <td>10000.0</td>\n",
       "      <td>11500.0</td>\n",
       "      <td>15</td>\n",
       "      <td>2017-07-14 21:18:43</td>\n",
       "      <td>2017-07-03</td>\n",
       "      <td>2017-07-14 21:08:35</td>\n",
       "      <td>...</td>\n",
       "      <td>10000.0</td>\n",
       "      <td>11500.0</td>\n",
       "      <td>15</td>\n",
       "      <td>Good</td>\n",
       "      <td>1977-10-10</td>\n",
       "      <td>Savings</td>\n",
       "      <td>First Bank</td>\n",
       "      <td>NaN</td>\n",
       "      <td>Permanent</td>\n",
       "      <td>NaN</td>\n",
       "    </tr>\n",
       "  </tbody>\n",
       "</table>\n",
       "<p>5 rows × 23 columns</p>\n",
       "</div>"
      ],
      "text/plain": [
       "  customer_id  loannumber_x      approveddate_x      creationdate_x  \\\n",
       "0  customer_1             2 2016-08-15 18:22:40 2016-08-15 17:22:32   \n",
       "1  customer_1             9 2017-04-28 18:39:07 2017-04-28 17:38:53   \n",
       "2  customer_1             8 2017-03-05 10:56:25 2017-03-05 09:56:19   \n",
       "3  customer_2             5 2017-04-09 18:25:55 2017-04-09 17:25:42   \n",
       "4  customer_3             2 2017-06-17 09:29:57 2017-06-17 08:29:50   \n",
       "\n",
       "   loanamount_x  totaldue_x  termdays_x          closeddate firstduedate  \\\n",
       "0       10000.0     13000.0          30 2016-09-01 16:06:48   2016-09-14   \n",
       "1       10000.0     13000.0          30 2017-05-28 14:44:49   2017-05-30   \n",
       "2       20000.0     23800.0          30 2017-04-26 22:18:56   2017-04-04   \n",
       "3       10000.0     11500.0          15 2017-04-24 01:35:52   2017-04-24   \n",
       "4       10000.0     11500.0          15 2017-07-14 21:18:43   2017-07-03   \n",
       "\n",
       "      firstrepaiddate  ...  loanamount_y totaldue_y termdays_y  good_bad_flag  \\\n",
       "0 2016-09-01 15:51:43  ...       30000.0    34500.0         30           Good   \n",
       "1 2017-05-26 00:00:00  ...       30000.0    34500.0         30           Good   \n",
       "2 2017-04-26 22:03:47  ...       30000.0    34500.0         30           Good   \n",
       "3 2017-04-24 00:48:43  ...       20000.0    22250.0         15           Good   \n",
       "4 2017-07-14 21:08:35  ...       10000.0    11500.0         15           Good   \n",
       "\n",
       "   birthdate  bank_account_type bank_name_clients bank_branch_clients  \\\n",
       "0 1972-01-15              Other      Diamond Bank                 NaN   \n",
       "1 1972-01-15              Other      Diamond Bank                 NaN   \n",
       "2 1972-01-15              Other      Diamond Bank                 NaN   \n",
       "3 1984-09-18              Other           EcoBank                 NaN   \n",
       "4 1977-10-10            Savings        First Bank                 NaN   \n",
       "\n",
       "  employment_status_clients level_of_education_clients  \n",
       "0                 Permanent              Post-Graduate  \n",
       "1                 Permanent              Post-Graduate  \n",
       "2                 Permanent              Post-Graduate  \n",
       "3                 Permanent                        NaN  \n",
       "4                 Permanent                        NaN  \n",
       "\n",
       "[5 rows x 23 columns]"
      ]
     },
     "execution_count": 24,
     "metadata": {},
     "output_type": "execute_result"
    }
   ],
   "source": [
    "data.head()\n"
   ]
  },
  {
   "cell_type": "markdown",
   "metadata": {},
   "source": [
    "**There appears to be severally columns with null values"
   ]
  },
  {
   "cell_type": "markdown",
   "metadata": {},
   "source": [
    "**check info"
   ]
  },
  {
   "cell_type": "code",
   "execution_count": 25,
   "metadata": {},
   "outputs": [
    {
     "name": "stdout",
     "output_type": "stream",
     "text": [
      "<class 'pandas.core.frame.DataFrame'>\n",
      "Int64Index: 18203 entries, 0 to 18202\n",
      "Data columns (total 23 columns):\n",
      " #   Column                      Non-Null Count  Dtype         \n",
      "---  ------                      --------------  -----         \n",
      " 0   customer_id                 18203 non-null  object        \n",
      " 1   loannumber_x                18203 non-null  int64         \n",
      " 2   approveddate_x              18203 non-null  datetime64[ns]\n",
      " 3   creationdate_x              18203 non-null  datetime64[ns]\n",
      " 4   loanamount_x                18203 non-null  float64       \n",
      " 5   totaldue_x                  18203 non-null  float64       \n",
      " 6   termdays_x                  18203 non-null  int64         \n",
      " 7   closeddate                  18203 non-null  datetime64[ns]\n",
      " 8   firstduedate                18203 non-null  datetime64[ns]\n",
      " 9   firstrepaiddate             18203 non-null  datetime64[ns]\n",
      " 10  loannumber_y                18203 non-null  int64         \n",
      " 11  approveddate_y              18203 non-null  datetime64[ns]\n",
      " 12  creationdate_y              18203 non-null  datetime64[ns]\n",
      " 13  loanamount_y                18203 non-null  float64       \n",
      " 14  totaldue_y                  18203 non-null  float64       \n",
      " 15  termdays_y                  18203 non-null  int64         \n",
      " 16  good_bad_flag               18203 non-null  object        \n",
      " 17  birthdate                   13693 non-null  datetime64[ns]\n",
      " 18  bank_account_type           13693 non-null  object        \n",
      " 19  bank_name_clients           13693 non-null  object        \n",
      " 20  bank_branch_clients         104 non-null    object        \n",
      " 21  employment_status_clients   12330 non-null  object        \n",
      " 22  level_of_education_clients  3464 non-null   object        \n",
      "dtypes: datetime64[ns](8), float64(4), int64(4), object(7)\n",
      "memory usage: 3.3+ MB\n"
     ]
    }
   ],
   "source": [
    "data.info()"
   ]
  },
  {
   "cell_type": "markdown",
   "metadata": {},
   "source": [
    "**Check the columns name to avoid naming errors"
   ]
  },
  {
   "cell_type": "code",
   "execution_count": 26,
   "metadata": {
    "scrolled": true
   },
   "outputs": [
    {
     "data": {
      "text/plain": [
       "Index(['customer_id', 'loannumber_x', 'approveddate_x', 'creationdate_x',\n",
       "       'loanamount_x', 'totaldue_x', 'termdays_x', 'closeddate',\n",
       "       'firstduedate', 'firstrepaiddate', 'loannumber_y', 'approveddate_y',\n",
       "       'creationdate_y', 'loanamount_y', 'totaldue_y', 'termdays_y',\n",
       "       'good_bad_flag', 'birthdate', 'bank_account_type', 'bank_name_clients',\n",
       "       'bank_branch_clients', 'employment_status_clients',\n",
       "       'level_of_education_clients'],\n",
       "      dtype='object')"
      ]
     },
     "execution_count": 26,
     "metadata": {},
     "output_type": "execute_result"
    }
   ],
   "source": [
    "data.columns"
   ]
  },
  {
   "cell_type": "code",
   "execution_count": 49,
   "metadata": {},
   "outputs": [],
   "source": [
    "sum_of_loan = data[['loanamount_x']].sum(axis = 1, skipna = True)"
   ]
  },
  {
   "cell_type": "code",
   "execution_count": 50,
   "metadata": {},
   "outputs": [
    {
     "data": {
      "text/plain": [
       "0        10000.0\n",
       "1        10000.0\n",
       "2        20000.0\n",
       "3        10000.0\n",
       "4        10000.0\n",
       "          ...   \n",
       "18198    10000.0\n",
       "18199    30000.0\n",
       "18200    10000.0\n",
       "18201    10000.0\n",
       "18202    10000.0\n",
       "Length: 18203, dtype: float64"
      ]
     },
     "execution_count": 50,
     "metadata": {},
     "output_type": "execute_result"
    }
   ],
   "source": [
    "sum_of_loan"
   ]
  },
  {
   "cell_type": "code",
   "execution_count": 27,
   "metadata": {},
   "outputs": [],
   "source": [
    "import datetime as dt"
   ]
  },
  {
   "cell_type": "code",
   "execution_count": 28,
   "metadata": {},
   "outputs": [],
   "source": [
    "data['approved_year'] = data['approveddate_x'].dt.year\n",
    "data['approved_month'] = data['approveddate_x'].dt.month\n",
    "data['approved_day'] = data['approveddate_x'].dt.day\n",
    "data['firstdue_year'] = data['firstduedate'].dt.year\n",
    "data['firstdue_month'] = data['firstduedate'].dt.month\n",
    "data['firstdue_day'] = data['firstduedate'].dt.day\n",
    "data['firstrepayment_year'] = data['firstrepaiddate'].dt.year\n",
    "data['firstrepayment_month'] = data['firstrepaiddate'].dt.month\n",
    "data['firstrepayment_day'] = data['firstrepaiddate'].dt.day\n"
   ]
  },
  {
   "cell_type": "code",
   "execution_count": 29,
   "metadata": {},
   "outputs": [],
   "source": [
    "data['approved_y_year'] = data['approveddate_y'].dt.year\n",
    "data['approved_y_month'] = data['approveddate_y'].dt.month\n",
    "data['approved_y_day'] = data['approveddate_y'].dt.day"
   ]
  },
  {
   "cell_type": "code",
   "execution_count": 30,
   "metadata": {},
   "outputs": [],
   "source": [
    "data.drop(['firstrepaiddate', 'firstduedate','approveddate_y','approveddate_x'], inplace = True, axis = 1)"
   ]
  },
  {
   "cell_type": "code",
   "execution_count": 31,
   "metadata": {},
   "outputs": [
    {
     "data": {
      "text/html": [
       "<div>\n",
       "<style scoped>\n",
       "    .dataframe tbody tr th:only-of-type {\n",
       "        vertical-align: middle;\n",
       "    }\n",
       "\n",
       "    .dataframe tbody tr th {\n",
       "        vertical-align: top;\n",
       "    }\n",
       "\n",
       "    .dataframe thead th {\n",
       "        text-align: right;\n",
       "    }\n",
       "</style>\n",
       "<table border=\"1\" class=\"dataframe\">\n",
       "  <thead>\n",
       "    <tr style=\"text-align: right;\">\n",
       "      <th></th>\n",
       "      <th>customer_id</th>\n",
       "      <th>loannumber_x</th>\n",
       "      <th>creationdate_x</th>\n",
       "      <th>loanamount_x</th>\n",
       "      <th>totaldue_x</th>\n",
       "      <th>termdays_x</th>\n",
       "      <th>closeddate</th>\n",
       "      <th>loannumber_y</th>\n",
       "      <th>creationdate_y</th>\n",
       "      <th>loanamount_y</th>\n",
       "      <th>...</th>\n",
       "      <th>approved_day</th>\n",
       "      <th>firstdue_year</th>\n",
       "      <th>firstdue_month</th>\n",
       "      <th>firstdue_day</th>\n",
       "      <th>firstrepayment_year</th>\n",
       "      <th>firstrepayment_month</th>\n",
       "      <th>firstrepayment_day</th>\n",
       "      <th>approved_y_year</th>\n",
       "      <th>approved_y_month</th>\n",
       "      <th>approved_y_day</th>\n",
       "    </tr>\n",
       "  </thead>\n",
       "  <tbody>\n",
       "    <tr>\n",
       "      <th>0</th>\n",
       "      <td>customer_1</td>\n",
       "      <td>2</td>\n",
       "      <td>2016-08-15 17:22:32</td>\n",
       "      <td>10000.0</td>\n",
       "      <td>13000.0</td>\n",
       "      <td>30</td>\n",
       "      <td>2016-09-01 16:06:48</td>\n",
       "      <td>12</td>\n",
       "      <td>2017-07-25 07:22:47</td>\n",
       "      <td>30000.0</td>\n",
       "      <td>...</td>\n",
       "      <td>15</td>\n",
       "      <td>2016</td>\n",
       "      <td>9</td>\n",
       "      <td>14</td>\n",
       "      <td>2016</td>\n",
       "      <td>9</td>\n",
       "      <td>1</td>\n",
       "      <td>2017</td>\n",
       "      <td>7</td>\n",
       "      <td>25</td>\n",
       "    </tr>\n",
       "    <tr>\n",
       "      <th>1</th>\n",
       "      <td>customer_1</td>\n",
       "      <td>9</td>\n",
       "      <td>2017-04-28 17:38:53</td>\n",
       "      <td>10000.0</td>\n",
       "      <td>13000.0</td>\n",
       "      <td>30</td>\n",
       "      <td>2017-05-28 14:44:49</td>\n",
       "      <td>12</td>\n",
       "      <td>2017-07-25 07:22:47</td>\n",
       "      <td>30000.0</td>\n",
       "      <td>...</td>\n",
       "      <td>28</td>\n",
       "      <td>2017</td>\n",
       "      <td>5</td>\n",
       "      <td>30</td>\n",
       "      <td>2017</td>\n",
       "      <td>5</td>\n",
       "      <td>26</td>\n",
       "      <td>2017</td>\n",
       "      <td>7</td>\n",
       "      <td>25</td>\n",
       "    </tr>\n",
       "    <tr>\n",
       "      <th>2</th>\n",
       "      <td>customer_1</td>\n",
       "      <td>8</td>\n",
       "      <td>2017-03-05 09:56:19</td>\n",
       "      <td>20000.0</td>\n",
       "      <td>23800.0</td>\n",
       "      <td>30</td>\n",
       "      <td>2017-04-26 22:18:56</td>\n",
       "      <td>12</td>\n",
       "      <td>2017-07-25 07:22:47</td>\n",
       "      <td>30000.0</td>\n",
       "      <td>...</td>\n",
       "      <td>5</td>\n",
       "      <td>2017</td>\n",
       "      <td>4</td>\n",
       "      <td>4</td>\n",
       "      <td>2017</td>\n",
       "      <td>4</td>\n",
       "      <td>26</td>\n",
       "      <td>2017</td>\n",
       "      <td>7</td>\n",
       "      <td>25</td>\n",
       "    </tr>\n",
       "    <tr>\n",
       "      <th>3</th>\n",
       "      <td>customer_2</td>\n",
       "      <td>5</td>\n",
       "      <td>2017-04-09 17:25:42</td>\n",
       "      <td>10000.0</td>\n",
       "      <td>11500.0</td>\n",
       "      <td>15</td>\n",
       "      <td>2017-04-24 01:35:52</td>\n",
       "      <td>7</td>\n",
       "      <td>2017-07-06 13:52:51</td>\n",
       "      <td>20000.0</td>\n",
       "      <td>...</td>\n",
       "      <td>9</td>\n",
       "      <td>2017</td>\n",
       "      <td>4</td>\n",
       "      <td>24</td>\n",
       "      <td>2017</td>\n",
       "      <td>4</td>\n",
       "      <td>24</td>\n",
       "      <td>2017</td>\n",
       "      <td>7</td>\n",
       "      <td>6</td>\n",
       "    </tr>\n",
       "    <tr>\n",
       "      <th>4</th>\n",
       "      <td>customer_3</td>\n",
       "      <td>2</td>\n",
       "      <td>2017-06-17 08:29:50</td>\n",
       "      <td>10000.0</td>\n",
       "      <td>11500.0</td>\n",
       "      <td>15</td>\n",
       "      <td>2017-07-14 21:18:43</td>\n",
       "      <td>3</td>\n",
       "      <td>2017-07-27 18:00:35</td>\n",
       "      <td>10000.0</td>\n",
       "      <td>...</td>\n",
       "      <td>17</td>\n",
       "      <td>2017</td>\n",
       "      <td>7</td>\n",
       "      <td>3</td>\n",
       "      <td>2017</td>\n",
       "      <td>7</td>\n",
       "      <td>14</td>\n",
       "      <td>2017</td>\n",
       "      <td>7</td>\n",
       "      <td>27</td>\n",
       "    </tr>\n",
       "  </tbody>\n",
       "</table>\n",
       "<p>5 rows × 31 columns</p>\n",
       "</div>"
      ],
      "text/plain": [
       "  customer_id  loannumber_x      creationdate_x  loanamount_x  totaldue_x  \\\n",
       "0  customer_1             2 2016-08-15 17:22:32       10000.0     13000.0   \n",
       "1  customer_1             9 2017-04-28 17:38:53       10000.0     13000.0   \n",
       "2  customer_1             8 2017-03-05 09:56:19       20000.0     23800.0   \n",
       "3  customer_2             5 2017-04-09 17:25:42       10000.0     11500.0   \n",
       "4  customer_3             2 2017-06-17 08:29:50       10000.0     11500.0   \n",
       "\n",
       "   termdays_x          closeddate  loannumber_y      creationdate_y  \\\n",
       "0          30 2016-09-01 16:06:48            12 2017-07-25 07:22:47   \n",
       "1          30 2017-05-28 14:44:49            12 2017-07-25 07:22:47   \n",
       "2          30 2017-04-26 22:18:56            12 2017-07-25 07:22:47   \n",
       "3          15 2017-04-24 01:35:52             7 2017-07-06 13:52:51   \n",
       "4          15 2017-07-14 21:18:43             3 2017-07-27 18:00:35   \n",
       "\n",
       "   loanamount_y  ...  approved_day  firstdue_year firstdue_month firstdue_day  \\\n",
       "0       30000.0  ...            15           2016              9           14   \n",
       "1       30000.0  ...            28           2017              5           30   \n",
       "2       30000.0  ...             5           2017              4            4   \n",
       "3       20000.0  ...             9           2017              4           24   \n",
       "4       10000.0  ...            17           2017              7            3   \n",
       "\n",
       "  firstrepayment_year firstrepayment_month firstrepayment_day approved_y_year  \\\n",
       "0                2016                    9                  1            2017   \n",
       "1                2017                    5                 26            2017   \n",
       "2                2017                    4                 26            2017   \n",
       "3                2017                    4                 24            2017   \n",
       "4                2017                    7                 14            2017   \n",
       "\n",
       "  approved_y_month  approved_y_day  \n",
       "0                7              25  \n",
       "1                7              25  \n",
       "2                7              25  \n",
       "3                7               6  \n",
       "4                7              27  \n",
       "\n",
       "[5 rows x 31 columns]"
      ]
     },
     "execution_count": 31,
     "metadata": {},
     "output_type": "execute_result"
    }
   ],
   "source": [
    "data.head()"
   ]
  },
  {
   "cell_type": "markdown",
   "metadata": {},
   "source": [
    "**check data columns"
   ]
  },
  {
   "cell_type": "code",
   "execution_count": 65,
   "metadata": {},
   "outputs": [
    {
     "data": {
      "text/plain": [
       "Index(['customer_id', 'loannumber_x', 'creationdate_x', 'loanamount_x',\n",
       "       'totaldue_x', 'termdays_x', 'closeddate', 'loannumber_y',\n",
       "       'creationdate_y', 'loanamount_y', 'totaldue_y', 'termdays_y',\n",
       "       'good_bad_flag', 'birthdate', 'bank_account_type', 'bank_name_clients',\n",
       "       'bank_branch_clients', 'employment_status_clients',\n",
       "       'level_of_education_clients', 'approved_year', 'approved_month',\n",
       "       'approved_day', 'firstdue_year', 'firstdue_month', 'firstdue_day',\n",
       "       'firstrepayment_year', 'firstrepayment_month', 'firstrepayment_day',\n",
       "       'approved_y_year', 'approved_y_month', 'approved_y_day'],\n",
       "      dtype='object')"
      ]
     },
     "execution_count": 65,
     "metadata": {},
     "output_type": "execute_result"
    }
   ],
   "source": [
    "data.columns"
   ]
  },
  {
   "cell_type": "markdown",
   "metadata": {},
   "source": [
    "**Check shape of the dataframe"
   ]
  },
  {
   "cell_type": "code",
   "execution_count": 32,
   "metadata": {},
   "outputs": [
    {
     "data": {
      "text/plain": [
       "(18203, 31)"
      ]
     },
     "execution_count": 32,
     "metadata": {},
     "output_type": "execute_result"
    }
   ],
   "source": [
    "data.shape"
   ]
  },
  {
   "cell_type": "markdown",
   "metadata": {},
   "source": [
    "**Check for unique customerid (i.e total number of customers)"
   ]
  },
  {
   "cell_type": "code",
   "execution_count": 33,
   "metadata": {},
   "outputs": [
    {
     "data": {
      "text/plain": [
       "4359"
      ]
     },
     "execution_count": 33,
     "metadata": {},
     "output_type": "execute_result"
    }
   ],
   "source": [
    "data[\"customer_id\"].nunique()"
   ]
  },
  {
   "cell_type": "markdown",
   "metadata": {},
   "source": [
    "**check columns with null values"
   ]
  },
  {
   "cell_type": "code",
   "execution_count": 34,
   "metadata": {},
   "outputs": [
    {
     "data": {
      "text/plain": [
       "['birthdate',\n",
       " 'bank_account_type',\n",
       " 'bank_name_clients',\n",
       " 'bank_branch_clients',\n",
       " 'employment_status_clients',\n",
       " 'level_of_education_clients']"
      ]
     },
     "execution_count": 34,
     "metadata": {},
     "output_type": "execute_result"
    }
   ],
   "source": [
    "data.columns[data.isna().any()].tolist()"
   ]
  },
  {
   "cell_type": "markdown",
   "metadata": {},
   "source": [
    "**check unique number of bank branch column"
   ]
  },
  {
   "cell_type": "code",
   "execution_count": 35,
   "metadata": {},
   "outputs": [
    {
     "data": {
      "text/plain": [
       "28"
      ]
     },
     "execution_count": 35,
     "metadata": {},
     "output_type": "execute_result"
    }
   ],
   "source": [
    "data[\"bank_branch_clients\"].nunique()"
   ]
  },
  {
   "cell_type": "markdown",
   "metadata": {},
   "source": [
    "**Checking for unique bank branches"
   ]
  },
  {
   "cell_type": "code",
   "execution_count": 36,
   "metadata": {
    "scrolled": true
   },
   "outputs": [
    {
     "data": {
      "text/plain": [
       "array([nan, 'OBA ADEBIMPE', 'RING ROAD', 'AKUTE', 'OGBA',\n",
       "       'ADEOLA HOPEWELL', 'ABEOKUTA', 'OJUELEGBA', 'LAGOS',\n",
       "       'OBA AKRAN BERGER PAINT',\n",
       "       'ACCESS BANK PLC, CHALLENGE ROUNDABOUT IBADAN, OYO STATE.',\n",
       "       'BOSSO ROAD, MINNA',\n",
       "       'PLOT 999C DANMOLE STREET, ADEOLA ODEKU, VICTORIA ISLAND, LAGOS',\n",
       "       'MAFOLUKU', '17, SANUSI FAFUNWA STREET, VICTORIA ISLAND, LAGOS',\n",
       "       'TRANS AMADI', 'APAPA', 'MUSHIN BRANCH', 'OAU ILE IFE',\n",
       "       ' IDI - ORO MUSHIN', 'AJOSE ADEOGUN', 'TINCAN', 'ABULE EGBA',\n",
       "       'OBA AKRAN', 'STERLING BANK PLC 102, IJU ROAD, IFAKO BRANCH',\n",
       "       'LEKKI EPE', 'OGUDU, OJOTA', 'AKURE BRANCH',\n",
       "       '40,SAPELE ROAD ,OPPOSITE DUMAZ JUNCTION BENIN CITY EDO STATE.'],\n",
       "      dtype=object)"
      ]
     },
     "execution_count": 36,
     "metadata": {},
     "output_type": "execute_result"
    }
   ],
   "source": [
    "data[\"bank_branch_clients\"].unique()"
   ]
  },
  {
   "cell_type": "markdown",
   "metadata": {},
   "source": [
    "**Check the Statistical summary of the dataset"
   ]
  },
  {
   "cell_type": "code",
   "execution_count": 37,
   "metadata": {},
   "outputs": [
    {
     "data": {
      "text/html": [
       "<div>\n",
       "<style scoped>\n",
       "    .dataframe tbody tr th:only-of-type {\n",
       "        vertical-align: middle;\n",
       "    }\n",
       "\n",
       "    .dataframe tbody tr th {\n",
       "        vertical-align: top;\n",
       "    }\n",
       "\n",
       "    .dataframe thead th {\n",
       "        text-align: right;\n",
       "    }\n",
       "</style>\n",
       "<table border=\"1\" class=\"dataframe\">\n",
       "  <thead>\n",
       "    <tr style=\"text-align: right;\">\n",
       "      <th></th>\n",
       "      <th>customer_id</th>\n",
       "      <th>loannumber_x</th>\n",
       "      <th>creationdate_x</th>\n",
       "      <th>loanamount_x</th>\n",
       "      <th>totaldue_x</th>\n",
       "      <th>termdays_x</th>\n",
       "      <th>closeddate</th>\n",
       "      <th>loannumber_y</th>\n",
       "      <th>creationdate_y</th>\n",
       "      <th>loanamount_y</th>\n",
       "      <th>...</th>\n",
       "      <th>approved_day</th>\n",
       "      <th>firstdue_year</th>\n",
       "      <th>firstdue_month</th>\n",
       "      <th>firstdue_day</th>\n",
       "      <th>firstrepayment_year</th>\n",
       "      <th>firstrepayment_month</th>\n",
       "      <th>firstrepayment_day</th>\n",
       "      <th>approved_y_year</th>\n",
       "      <th>approved_y_month</th>\n",
       "      <th>approved_y_day</th>\n",
       "    </tr>\n",
       "  </thead>\n",
       "  <tbody>\n",
       "    <tr>\n",
       "      <th>count</th>\n",
       "      <td>18203</td>\n",
       "      <td>18203.000000</td>\n",
       "      <td>18203</td>\n",
       "      <td>18203.000000</td>\n",
       "      <td>18203.000000</td>\n",
       "      <td>18203.000000</td>\n",
       "      <td>18203</td>\n",
       "      <td>18203.000000</td>\n",
       "      <td>18203</td>\n",
       "      <td>18203.000000</td>\n",
       "      <td>...</td>\n",
       "      <td>18203.000000</td>\n",
       "      <td>18203.000000</td>\n",
       "      <td>18203.000000</td>\n",
       "      <td>18203.000000</td>\n",
       "      <td>18203.000000</td>\n",
       "      <td>18203.000000</td>\n",
       "      <td>18203.000000</td>\n",
       "      <td>18203.0</td>\n",
       "      <td>18203.0</td>\n",
       "      <td>18203.000000</td>\n",
       "    </tr>\n",
       "    <tr>\n",
       "      <th>unique</th>\n",
       "      <td>4359</td>\n",
       "      <td>NaN</td>\n",
       "      <td>18173</td>\n",
       "      <td>NaN</td>\n",
       "      <td>NaN</td>\n",
       "      <td>NaN</td>\n",
       "      <td>17955</td>\n",
       "      <td>NaN</td>\n",
       "      <td>4355</td>\n",
       "      <td>NaN</td>\n",
       "      <td>...</td>\n",
       "      <td>NaN</td>\n",
       "      <td>NaN</td>\n",
       "      <td>NaN</td>\n",
       "      <td>NaN</td>\n",
       "      <td>NaN</td>\n",
       "      <td>NaN</td>\n",
       "      <td>NaN</td>\n",
       "      <td>NaN</td>\n",
       "      <td>NaN</td>\n",
       "      <td>NaN</td>\n",
       "    </tr>\n",
       "    <tr>\n",
       "      <th>top</th>\n",
       "      <td>customer_551</td>\n",
       "      <td>NaN</td>\n",
       "      <td>2017-03-11 16:21:28</td>\n",
       "      <td>NaN</td>\n",
       "      <td>NaN</td>\n",
       "      <td>NaN</td>\n",
       "      <td>2016-11-07 00:53:42</td>\n",
       "      <td>NaN</td>\n",
       "      <td>2017-07-13 02:42:33</td>\n",
       "      <td>NaN</td>\n",
       "      <td>...</td>\n",
       "      <td>NaN</td>\n",
       "      <td>NaN</td>\n",
       "      <td>NaN</td>\n",
       "      <td>NaN</td>\n",
       "      <td>NaN</td>\n",
       "      <td>NaN</td>\n",
       "      <td>NaN</td>\n",
       "      <td>NaN</td>\n",
       "      <td>NaN</td>\n",
       "      <td>NaN</td>\n",
       "    </tr>\n",
       "    <tr>\n",
       "      <th>freq</th>\n",
       "      <td>26</td>\n",
       "      <td>NaN</td>\n",
       "      <td>2</td>\n",
       "      <td>NaN</td>\n",
       "      <td>NaN</td>\n",
       "      <td>NaN</td>\n",
       "      <td>5</td>\n",
       "      <td>NaN</td>\n",
       "      <td>26</td>\n",
       "      <td>NaN</td>\n",
       "      <td>...</td>\n",
       "      <td>NaN</td>\n",
       "      <td>NaN</td>\n",
       "      <td>NaN</td>\n",
       "      <td>NaN</td>\n",
       "      <td>NaN</td>\n",
       "      <td>NaN</td>\n",
       "      <td>NaN</td>\n",
       "      <td>NaN</td>\n",
       "      <td>NaN</td>\n",
       "      <td>NaN</td>\n",
       "    </tr>\n",
       "    <tr>\n",
       "      <th>first</th>\n",
       "      <td>NaN</td>\n",
       "      <td>NaN</td>\n",
       "      <td>2016-01-15 07:53:17</td>\n",
       "      <td>NaN</td>\n",
       "      <td>NaN</td>\n",
       "      <td>NaN</td>\n",
       "      <td>2016-02-02 08:18:15</td>\n",
       "      <td>NaN</td>\n",
       "      <td>2017-07-01 00:35:20</td>\n",
       "      <td>NaN</td>\n",
       "      <td>...</td>\n",
       "      <td>NaN</td>\n",
       "      <td>NaN</td>\n",
       "      <td>NaN</td>\n",
       "      <td>NaN</td>\n",
       "      <td>NaN</td>\n",
       "      <td>NaN</td>\n",
       "      <td>NaN</td>\n",
       "      <td>NaN</td>\n",
       "      <td>NaN</td>\n",
       "      <td>NaN</td>\n",
       "    </tr>\n",
       "    <tr>\n",
       "      <th>last</th>\n",
       "      <td>NaN</td>\n",
       "      <td>NaN</td>\n",
       "      <td>2017-07-28 09:46:34</td>\n",
       "      <td>NaN</td>\n",
       "      <td>NaN</td>\n",
       "      <td>NaN</td>\n",
       "      <td>2017-07-30 22:09:11</td>\n",
       "      <td>NaN</td>\n",
       "      <td>2017-07-30 21:55:43</td>\n",
       "      <td>NaN</td>\n",
       "      <td>...</td>\n",
       "      <td>NaN</td>\n",
       "      <td>NaN</td>\n",
       "      <td>NaN</td>\n",
       "      <td>NaN</td>\n",
       "      <td>NaN</td>\n",
       "      <td>NaN</td>\n",
       "      <td>NaN</td>\n",
       "      <td>NaN</td>\n",
       "      <td>NaN</td>\n",
       "      <td>NaN</td>\n",
       "    </tr>\n",
       "    <tr>\n",
       "      <th>mean</th>\n",
       "      <td>NaN</td>\n",
       "      <td>4.188211</td>\n",
       "      <td>NaN</td>\n",
       "      <td>16498.489260</td>\n",
       "      <td>19570.291924</td>\n",
       "      <td>26.690655</td>\n",
       "      <td>NaN</td>\n",
       "      <td>8.376037</td>\n",
       "      <td>NaN</td>\n",
       "      <td>25663.352195</td>\n",
       "      <td>...</td>\n",
       "      <td>15.665275</td>\n",
       "      <td>2016.773883</td>\n",
       "      <td>5.915838</td>\n",
       "      <td>15.596495</td>\n",
       "      <td>2016.768665</td>\n",
       "      <td>5.890622</td>\n",
       "      <td>15.785750</td>\n",
       "      <td>2017.0</td>\n",
       "      <td>7.0</td>\n",
       "      <td>15.394440</td>\n",
       "    </tr>\n",
       "    <tr>\n",
       "      <th>std</th>\n",
       "      <td>NaN</td>\n",
       "      <td>3.248957</td>\n",
       "      <td>NaN</td>\n",
       "      <td>9318.978101</td>\n",
       "      <td>10453.446786</td>\n",
       "      <td>10.950075</td>\n",
       "      <td>NaN</td>\n",
       "      <td>4.283192</td>\n",
       "      <td>NaN</td>\n",
       "      <td>12648.448317</td>\n",
       "      <td>...</td>\n",
       "      <td>8.796055</td>\n",
       "      <td>0.418327</td>\n",
       "      <td>2.686276</td>\n",
       "      <td>9.058628</td>\n",
       "      <td>0.421698</td>\n",
       "      <td>2.703992</td>\n",
       "      <td>9.206803</td>\n",
       "      <td>0.0</td>\n",
       "      <td>0.0</td>\n",
       "      <td>8.665714</td>\n",
       "    </tr>\n",
       "    <tr>\n",
       "      <th>min</th>\n",
       "      <td>NaN</td>\n",
       "      <td>1.000000</td>\n",
       "      <td>NaN</td>\n",
       "      <td>3000.000000</td>\n",
       "      <td>3450.000000</td>\n",
       "      <td>15.000000</td>\n",
       "      <td>NaN</td>\n",
       "      <td>2.000000</td>\n",
       "      <td>NaN</td>\n",
       "      <td>10000.000000</td>\n",
       "      <td>...</td>\n",
       "      <td>1.000000</td>\n",
       "      <td>2016.000000</td>\n",
       "      <td>1.000000</td>\n",
       "      <td>1.000000</td>\n",
       "      <td>2016.000000</td>\n",
       "      <td>1.000000</td>\n",
       "      <td>1.000000</td>\n",
       "      <td>2017.0</td>\n",
       "      <td>7.0</td>\n",
       "      <td>1.000000</td>\n",
       "    </tr>\n",
       "    <tr>\n",
       "      <th>25%</th>\n",
       "      <td>NaN</td>\n",
       "      <td>2.000000</td>\n",
       "      <td>NaN</td>\n",
       "      <td>10000.000000</td>\n",
       "      <td>11500.000000</td>\n",
       "      <td>15.000000</td>\n",
       "      <td>NaN</td>\n",
       "      <td>5.000000</td>\n",
       "      <td>NaN</td>\n",
       "      <td>10000.000000</td>\n",
       "      <td>...</td>\n",
       "      <td>8.000000</td>\n",
       "      <td>2017.000000</td>\n",
       "      <td>4.000000</td>\n",
       "      <td>7.000000</td>\n",
       "      <td>2017.000000</td>\n",
       "      <td>4.000000</td>\n",
       "      <td>7.000000</td>\n",
       "      <td>2017.0</td>\n",
       "      <td>7.0</td>\n",
       "      <td>7.000000</td>\n",
       "    </tr>\n",
       "    <tr>\n",
       "      <th>50%</th>\n",
       "      <td>NaN</td>\n",
       "      <td>3.000000</td>\n",
       "      <td>NaN</td>\n",
       "      <td>10000.000000</td>\n",
       "      <td>13000.000000</td>\n",
       "      <td>30.000000</td>\n",
       "      <td>NaN</td>\n",
       "      <td>8.000000</td>\n",
       "      <td>NaN</td>\n",
       "      <td>30000.000000</td>\n",
       "      <td>...</td>\n",
       "      <td>16.000000</td>\n",
       "      <td>2017.000000</td>\n",
       "      <td>6.000000</td>\n",
       "      <td>15.000000</td>\n",
       "      <td>2017.000000</td>\n",
       "      <td>6.000000</td>\n",
       "      <td>16.000000</td>\n",
       "      <td>2017.0</td>\n",
       "      <td>7.0</td>\n",
       "      <td>15.000000</td>\n",
       "    </tr>\n",
       "    <tr>\n",
       "      <th>75%</th>\n",
       "      <td>NaN</td>\n",
       "      <td>6.000000</td>\n",
       "      <td>NaN</td>\n",
       "      <td>20000.000000</td>\n",
       "      <td>24500.000000</td>\n",
       "      <td>30.000000</td>\n",
       "      <td>NaN</td>\n",
       "      <td>11.000000</td>\n",
       "      <td>NaN</td>\n",
       "      <td>40000.000000</td>\n",
       "      <td>...</td>\n",
       "      <td>23.000000</td>\n",
       "      <td>2017.000000</td>\n",
       "      <td>7.000000</td>\n",
       "      <td>24.000000</td>\n",
       "      <td>2017.000000</td>\n",
       "      <td>7.000000</td>\n",
       "      <td>24.000000</td>\n",
       "      <td>2017.0</td>\n",
       "      <td>7.0</td>\n",
       "      <td>24.000000</td>\n",
       "    </tr>\n",
       "    <tr>\n",
       "      <th>max</th>\n",
       "      <td>NaN</td>\n",
       "      <td>26.000000</td>\n",
       "      <td>NaN</td>\n",
       "      <td>60000.000000</td>\n",
       "      <td>68100.000000</td>\n",
       "      <td>90.000000</td>\n",
       "      <td>NaN</td>\n",
       "      <td>27.000000</td>\n",
       "      <td>NaN</td>\n",
       "      <td>60000.000000</td>\n",
       "      <td>...</td>\n",
       "      <td>31.000000</td>\n",
       "      <td>2017.000000</td>\n",
       "      <td>12.000000</td>\n",
       "      <td>31.000000</td>\n",
       "      <td>2017.000000</td>\n",
       "      <td>12.000000</td>\n",
       "      <td>31.000000</td>\n",
       "      <td>2017.0</td>\n",
       "      <td>7.0</td>\n",
       "      <td>30.000000</td>\n",
       "    </tr>\n",
       "  </tbody>\n",
       "</table>\n",
       "<p>13 rows × 31 columns</p>\n",
       "</div>"
      ],
      "text/plain": [
       "         customer_id  loannumber_x       creationdate_x  loanamount_x  \\\n",
       "count          18203  18203.000000                18203  18203.000000   \n",
       "unique          4359           NaN                18173           NaN   \n",
       "top     customer_551           NaN  2017-03-11 16:21:28           NaN   \n",
       "freq              26           NaN                    2           NaN   \n",
       "first            NaN           NaN  2016-01-15 07:53:17           NaN   \n",
       "last             NaN           NaN  2017-07-28 09:46:34           NaN   \n",
       "mean             NaN      4.188211                  NaN  16498.489260   \n",
       "std              NaN      3.248957                  NaN   9318.978101   \n",
       "min              NaN      1.000000                  NaN   3000.000000   \n",
       "25%              NaN      2.000000                  NaN  10000.000000   \n",
       "50%              NaN      3.000000                  NaN  10000.000000   \n",
       "75%              NaN      6.000000                  NaN  20000.000000   \n",
       "max              NaN     26.000000                  NaN  60000.000000   \n",
       "\n",
       "          totaldue_x    termdays_x           closeddate  loannumber_y  \\\n",
       "count   18203.000000  18203.000000                18203  18203.000000   \n",
       "unique           NaN           NaN                17955           NaN   \n",
       "top              NaN           NaN  2016-11-07 00:53:42           NaN   \n",
       "freq             NaN           NaN                    5           NaN   \n",
       "first            NaN           NaN  2016-02-02 08:18:15           NaN   \n",
       "last             NaN           NaN  2017-07-30 22:09:11           NaN   \n",
       "mean    19570.291924     26.690655                  NaN      8.376037   \n",
       "std     10453.446786     10.950075                  NaN      4.283192   \n",
       "min      3450.000000     15.000000                  NaN      2.000000   \n",
       "25%     11500.000000     15.000000                  NaN      5.000000   \n",
       "50%     13000.000000     30.000000                  NaN      8.000000   \n",
       "75%     24500.000000     30.000000                  NaN     11.000000   \n",
       "max     68100.000000     90.000000                  NaN     27.000000   \n",
       "\n",
       "             creationdate_y  loanamount_y  ...  approved_day  firstdue_year  \\\n",
       "count                 18203  18203.000000  ...  18203.000000   18203.000000   \n",
       "unique                 4355           NaN  ...           NaN            NaN   \n",
       "top     2017-07-13 02:42:33           NaN  ...           NaN            NaN   \n",
       "freq                     26           NaN  ...           NaN            NaN   \n",
       "first   2017-07-01 00:35:20           NaN  ...           NaN            NaN   \n",
       "last    2017-07-30 21:55:43           NaN  ...           NaN            NaN   \n",
       "mean                    NaN  25663.352195  ...     15.665275    2016.773883   \n",
       "std                     NaN  12648.448317  ...      8.796055       0.418327   \n",
       "min                     NaN  10000.000000  ...      1.000000    2016.000000   \n",
       "25%                     NaN  10000.000000  ...      8.000000    2017.000000   \n",
       "50%                     NaN  30000.000000  ...     16.000000    2017.000000   \n",
       "75%                     NaN  40000.000000  ...     23.000000    2017.000000   \n",
       "max                     NaN  60000.000000  ...     31.000000    2017.000000   \n",
       "\n",
       "       firstdue_month  firstdue_day firstrepayment_year firstrepayment_month  \\\n",
       "count    18203.000000  18203.000000        18203.000000         18203.000000   \n",
       "unique            NaN           NaN                 NaN                  NaN   \n",
       "top               NaN           NaN                 NaN                  NaN   \n",
       "freq              NaN           NaN                 NaN                  NaN   \n",
       "first             NaN           NaN                 NaN                  NaN   \n",
       "last              NaN           NaN                 NaN                  NaN   \n",
       "mean         5.915838     15.596495         2016.768665             5.890622   \n",
       "std          2.686276      9.058628            0.421698             2.703992   \n",
       "min          1.000000      1.000000         2016.000000             1.000000   \n",
       "25%          4.000000      7.000000         2017.000000             4.000000   \n",
       "50%          6.000000     15.000000         2017.000000             6.000000   \n",
       "75%          7.000000     24.000000         2017.000000             7.000000   \n",
       "max         12.000000     31.000000         2017.000000            12.000000   \n",
       "\n",
       "       firstrepayment_day approved_y_year approved_y_month  approved_y_day  \n",
       "count        18203.000000         18203.0          18203.0    18203.000000  \n",
       "unique                NaN             NaN              NaN             NaN  \n",
       "top                   NaN             NaN              NaN             NaN  \n",
       "freq                  NaN             NaN              NaN             NaN  \n",
       "first                 NaN             NaN              NaN             NaN  \n",
       "last                  NaN             NaN              NaN             NaN  \n",
       "mean            15.785750          2017.0              7.0       15.394440  \n",
       "std              9.206803             0.0              0.0        8.665714  \n",
       "min              1.000000          2017.0              7.0        1.000000  \n",
       "25%              7.000000          2017.0              7.0        7.000000  \n",
       "50%             16.000000          2017.0              7.0       15.000000  \n",
       "75%             24.000000          2017.0              7.0       24.000000  \n",
       "max             31.000000          2017.0              7.0       30.000000  \n",
       "\n",
       "[13 rows x 31 columns]"
      ]
     },
     "execution_count": 37,
     "metadata": {},
     "output_type": "execute_result"
    }
   ],
   "source": [
    "data.describe(include = \"all\")"
   ]
  },
  {
   "cell_type": "code",
   "execution_count": 38,
   "metadata": {
    "scrolled": true
   },
   "outputs": [
    {
     "data": {
      "text/html": [
       "<div>\n",
       "<style scoped>\n",
       "    .dataframe tbody tr th:only-of-type {\n",
       "        vertical-align: middle;\n",
       "    }\n",
       "\n",
       "    .dataframe tbody tr th {\n",
       "        vertical-align: top;\n",
       "    }\n",
       "\n",
       "    .dataframe thead th {\n",
       "        text-align: right;\n",
       "    }\n",
       "</style>\n",
       "<table border=\"1\" class=\"dataframe\">\n",
       "  <thead>\n",
       "    <tr style=\"text-align: right;\">\n",
       "      <th></th>\n",
       "      <th>customer_id</th>\n",
       "      <th>good_bad_flag</th>\n",
       "      <th>bank_account_type</th>\n",
       "      <th>bank_name_clients</th>\n",
       "      <th>bank_branch_clients</th>\n",
       "      <th>employment_status_clients</th>\n",
       "      <th>level_of_education_clients</th>\n",
       "    </tr>\n",
       "  </thead>\n",
       "  <tbody>\n",
       "    <tr>\n",
       "      <th>count</th>\n",
       "      <td>18203</td>\n",
       "      <td>18203</td>\n",
       "      <td>13693</td>\n",
       "      <td>13693</td>\n",
       "      <td>104</td>\n",
       "      <td>12330</td>\n",
       "      <td>3464</td>\n",
       "    </tr>\n",
       "    <tr>\n",
       "      <th>unique</th>\n",
       "      <td>4359</td>\n",
       "      <td>2</td>\n",
       "      <td>3</td>\n",
       "      <td>18</td>\n",
       "      <td>28</td>\n",
       "      <td>6</td>\n",
       "      <td>4</td>\n",
       "    </tr>\n",
       "    <tr>\n",
       "      <th>top</th>\n",
       "      <td>customer_551</td>\n",
       "      <td>Good</td>\n",
       "      <td>Savings</td>\n",
       "      <td>GT Bank</td>\n",
       "      <td>BOSSO ROAD, MINNA</td>\n",
       "      <td>Permanent</td>\n",
       "      <td>Graduate</td>\n",
       "    </tr>\n",
       "    <tr>\n",
       "      <th>freq</th>\n",
       "      <td>26</td>\n",
       "      <td>14834</td>\n",
       "      <td>8311</td>\n",
       "      <td>5034</td>\n",
       "      <td>15</td>\n",
       "      <td>9138</td>\n",
       "      <td>2508</td>\n",
       "    </tr>\n",
       "  </tbody>\n",
       "</table>\n",
       "</div>"
      ],
      "text/plain": [
       "         customer_id good_bad_flag bank_account_type bank_name_clients  \\\n",
       "count          18203         18203             13693             13693   \n",
       "unique          4359             2                 3                18   \n",
       "top     customer_551          Good           Savings           GT Bank   \n",
       "freq              26         14834              8311              5034   \n",
       "\n",
       "       bank_branch_clients employment_status_clients  \\\n",
       "count                  104                     12330   \n",
       "unique                  28                         6   \n",
       "top      BOSSO ROAD, MINNA                 Permanent   \n",
       "freq                    15                      9138   \n",
       "\n",
       "       level_of_education_clients  \n",
       "count                        3464  \n",
       "unique                          4  \n",
       "top                      Graduate  \n",
       "freq                         2508  "
      ]
     },
     "execution_count": 38,
     "metadata": {},
     "output_type": "execute_result"
    }
   ],
   "source": [
    "data.describe(include = \"object\")"
   ]
  },
  {
   "cell_type": "markdown",
   "metadata": {},
   "source": [
    "**customer_551 appears to be the top customer operating a savings account with gtbank at minna"
   ]
  },
  {
   "cell_type": "markdown",
   "metadata": {},
   "source": [
    "**Checking termdays with good and bad status"
   ]
  },
  {
   "cell_type": "code",
   "execution_count": 54,
   "metadata": {},
   "outputs": [],
   "source": [
    "loan_term_days = data.groupby(by = \"termdays_x\"),count()"
   ]
  },
  {
   "cell_type": "code",
   "execution_count": 41,
   "metadata": {
    "scrolled": false
   },
   "outputs": [
    {
     "data": {
      "image/png": "[encoded data removed]",
      "text/plain": [
       "<Figure size 504x432 with 1 Axes>"
      ]
     },
     "metadata": {
      "needs_background": "light"
     },
     "output_type": "display_data"
    }
   ],
   "source": [
    "plt.figure(figsize = (7,6))\n",
    "sns.countplot(x = 'termdays_x', palette = 'autumn',data = data)\n",
    "plt.show()"
   ]
  },
  {
   "cell_type": "markdown",
   "metadata": {},
   "source": [
    "**with this we can see there are more loan repayable in 30days than others"
   ]
  },
  {
   "cell_type": "code",
   "execution_count": 42,
   "metadata": {},
   "outputs": [],
   "source": [
    "termday_flag = pd.crosstab(data['termdays_x'],data['good_bad_flag'])"
   ]
  },
  {
   "cell_type": "code",
   "execution_count": 43,
   "metadata": {},
   "outputs": [
    {
     "data": {
      "text/html": [
       "<div>\n",
       "<style scoped>\n",
       "    .dataframe tbody tr th:only-of-type {\n",
       "        vertical-align: middle;\n",
       "    }\n",
       "\n",
       "    .dataframe tbody tr th {\n",
       "        vertical-align: top;\n",
       "    }\n",
       "\n",
       "    .dataframe thead th {\n",
       "        text-align: right;\n",
       "    }\n",
       "</style>\n",
       "<table border=\"1\" class=\"dataframe\">\n",
       "  <thead>\n",
       "    <tr style=\"text-align: right;\">\n",
       "      <th>good_bad_flag</th>\n",
       "      <th>Bad</th>\n",
       "      <th>Good</th>\n",
       "    </tr>\n",
       "    <tr>\n",
       "      <th>termdays_x</th>\n",
       "      <th></th>\n",
       "      <th></th>\n",
       "    </tr>\n",
       "  </thead>\n",
       "  <tbody>\n",
       "    <tr>\n",
       "      <th>15</th>\n",
       "      <td>1214</td>\n",
       "      <td>4912</td>\n",
       "    </tr>\n",
       "    <tr>\n",
       "      <th>30</th>\n",
       "      <td>1982</td>\n",
       "      <td>9070</td>\n",
       "    </tr>\n",
       "    <tr>\n",
       "      <th>60</th>\n",
       "      <td>170</td>\n",
       "      <td>825</td>\n",
       "    </tr>\n",
       "    <tr>\n",
       "      <th>90</th>\n",
       "      <td>3</td>\n",
       "      <td>27</td>\n",
       "    </tr>\n",
       "  </tbody>\n",
       "</table>\n",
       "</div>"
      ],
      "text/plain": [
       "good_bad_flag   Bad  Good\n",
       "termdays_x               \n",
       "15             1214  4912\n",
       "30             1982  9070\n",
       "60              170   825\n",
       "90                3    27"
      ]
     },
     "execution_count": 43,
     "metadata": {},
     "output_type": "execute_result"
    }
   ],
   "source": [
    "termday_flag"
   ]
  },
  {
   "cell_type": "code",
   "execution_count": 44,
   "metadata": {},
   "outputs": [
    {
     "data": {
      "image/png": "[encoded data removed]",
      "text/plain": [
       "<Figure size 648x432 with 1 Axes>"
      ]
     },
     "metadata": {
      "needs_background": "light"
     },
     "output_type": "display_data"
    }
   ],
   "source": [
    "termday_flag.plot(kind='bar', stacked=True,figsize=(9,6))\n",
    "plt.show()"
   ]
  },
  {
   "cell_type": "code",
   "execution_count": null,
   "metadata": {},
   "outputs": [],
   "source": []
  },
  {
   "cell_type": "markdown",
   "metadata": {},
   "source": [
    "**We can see for each term days more customer would pay back than those who won't"
   ]
  },
  {
   "cell_type": "code",
   "execution_count": 45,
   "metadata": {},
   "outputs": [
    {
     "data": {
      "image/png": "[encoded data removed]",
      "text/plain": [
       "<Figure size 432x288 with 1 Axes>"
      ]
     },
     "metadata": {
      "needs_background": "light"
     },
     "output_type": "display_data"
    }
   ],
   "source": [
    "plt.scatter(data['loanamount_y'],data['totaldue_x'])\n",
    "plt.xlabel(\"loadamount\")\n",
    "plt.ylabel('amountpayable')\n",
    "plt.show()"
   ]
  },
  {
   "cell_type": "code",
   "execution_count": 56,
   "metadata": {},
   "outputs": [],
   "source": [
    "loan_total_amount = data.groupby(by = \"termdays_x\")\n",
    "loan_sum_total = loan_total_amount['loanamount_x'].sum()"
   ]
  },
  {
   "cell_type": "code",
   "execution_count": 59,
   "metadata": {},
   "outputs": [
    {
     "data": {
      "text/plain": [
       "termdays_x\n",
       "15     74952000.0\n",
       "30    190305000.0\n",
       "60     33545000.0\n",
       "90      1520000.0\n",
       "Name: loanamount_x, dtype: float64"
      ]
     },
     "execution_count": 59,
     "metadata": {},
     "output_type": "execute_result"
    }
   ],
   "source": [
    "loan_sum_total"
   ]
  },
  {
   "cell_type": "code",
   "execution_count": 58,
   "metadata": {},
   "outputs": [
    {
     "data": {
      "text/plain": [
       "<matplotlib.axes._subplots.AxesSubplot at 0x181ebc6bd30>"
      ]
     },
     "execution_count": 58,
     "metadata": {},
     "output_type": "execute_result"
    },
    {
     "data": {
      "image/png": "[encoded data removed]",
      "text/plain": [
       "<Figure size 432x288 with 1 Axes>"
      ]
     },
     "metadata": {},
     "output_type": "display_data"
    }
   ],
   "source": [
    "loan_sum_total.plot(kind='pie',autopct='%1.1f%%',legend = True)"
   ]
  },
  {
   "cell_type": "code",
   "execution_count": 60,
   "metadata": {},
   "outputs": [],
   "source": [
    "loan_y_total_amount = data.groupby(by = \"termdays_y\")\n",
    "loan_y_sum_total = loan_total_amount['loanamount_y'].sum()"
   ]
  },
  {
   "cell_type": "code",
   "execution_count": 61,
   "metadata": {},
   "outputs": [
    {
     "data": {
      "text/plain": [
       "termdays_x\n",
       "15    145515000.0\n",
       "30    280875000.0\n",
       "60     39110000.0\n",
       "90      1650000.0\n",
       "Name: loanamount_y, dtype: float64"
      ]
     },
     "execution_count": 61,
     "metadata": {},
     "output_type": "execute_result"
    }
   ],
   "source": [
    "loan_y_sum_total"
   ]
  },
  {
   "cell_type": "code",
   "execution_count": 62,
   "metadata": {},
   "outputs": [
    {
     "data": {
      "text/plain": [
       "<matplotlib.axes._subplots.AxesSubplot at 0x181ec07a2b0>"
      ]
     },
     "execution_count": 62,
     "metadata": {},
     "output_type": "execute_result"
    },
    {
     "data": {
      "image/png": "[encoded data removed]",
      "text/plain": [
       "<Figure size 432x288 with 1 Axes>"
      ]
     },
     "metadata": {},
     "output_type": "display_data"
    }
   ],
   "source": [
    "loan_y_sum_total.plot(kind='pie',autopct='%1.1f%%',legend = True)"
   ]
  },
  {
   "cell_type": "code",
   "execution_count": null,
   "metadata": {},
   "outputs": [],
   "source": []
  }
 ],
 "metadata": {
  "kernelspec": {
   "display_name": "Python 3",
   "language": "python",
   "name": "python3"
  },
  "language_info": {
   "codemirror_mode": {
    "name": "ipython",
    "version": 3
   },
   "file_extension": ".py",
   "mimetype": "text/x-python",
   "name": "python",
   "nbconvert_exporter": "python",
   "pygments_lexer": "ipython3",
   "version": "3.8.3"
  }
 },
 "nbformat": 4,
 "nbformat_minor": 4
}
