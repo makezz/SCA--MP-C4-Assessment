{
 "cells": [
  {
   "cell_type": "markdown",
   "metadata": {},
   "source": [
    "## GUESS THE NUMBER"
   ]
  },
  {
   "cell_type": "code",
   "execution_count": 1,
   "metadata": {},
   "outputs": [],
   "source": [
    "#import python module random\n",
    "import random as rd"
   ]
  },
  {
   "cell_type": "code",
   "execution_count": null,
   "metadata": {},
   "outputs": [
    {
     "name": "stdout",
     "output_type": "stream",
     "text": [
      "Enter a number between 0 to 20: 6\n",
      "Number too low\n",
      "\n",
      "Enter a number between 0 to 20: 7\n",
      "Number too low\n",
      "\n",
      "Enter a number between 0 to 20: 12\n",
      "Number too low\n",
      "\n",
      "Enter a number between 0 to 20: 19\n",
      "Number too high\n"
     ]
    }
   ],
   "source": [
    "#Assign the random(range) to the variable number\n",
    "number = rd.randrange(0,21)\n",
    "guess = int(input(\"Enter a number between 0 to 20: \"))\n",
    "while guess != number:\n",
    "    if guess < number:\n",
    "        print(\"Number too low\")\n",
    "        guess = int(input(\"\\nEnter a number between 0 to 20: \"))\n",
    "    elif guess > number:\n",
    "        print(\"Number too high\")\n",
    "        guess = int(input(\"\\nEnter a number between 0 to 20: \"))\n",
    "    else:\n",
    "        print(\"Correct Number!\")\n",
    "        break\n",
    "        "
   ]
  },
  {
   "cell_type": "markdown",
   "metadata": {},
   "source": [
    "## PASSWORD GENERATOR"
   ]
  },
  {
   "cell_type": "code",
   "execution_count": null,
   "metadata": {},
   "outputs": [],
   "source": [
    "#import the module string\n",
    "import string"
   ]
  },
  {
   "cell_type": "code",
   "execution_count": null,
   "metadata": {},
   "outputs": [],
   "source": [
    "print(\"*********************************************\")\n",
    "print(\"****Hello, Welcome to Password Generator!****\")\n",
    "print(\"*********************************************\")\n",
    "\n",
    "#define data\n",
    "lower = string.ascii_lowercase\n",
    "upper = string.ascii_uppercase\n",
    "digits = string.digits\n",
    "syms = string.punctuation\n",
    "\n",
    "#combine the data\n",
    "all = lower + upper + digits + syms\n",
    "\n",
    "#input the length of password\n",
    "length = int(input(\"What length would you like your password to be: \"))\n",
    "\n",
    "#input the numberof password needed\n",
    "amount = int(input(\"How many passwords would you like: \"))\n",
    "\n",
    "#loop through\n",
    "for x in range(amount):\n",
    "    if length > 6:\n",
    "        temp = rd.sample(all,length)\n",
    "        password = \"\".join(temp)\n",
    "        print(password)\n",
    "    else:\n",
    "        print(\"Password length too short!!!\")"
   ]
  },
  {
   "cell_type": "code",
   "execution_count": null,
   "metadata": {},
   "outputs": [],
   "source": []
  },
  {
   "cell_type": "code",
   "execution_count": null,
   "metadata": {},
   "outputs": [],
   "source": []
  }
 ],
 "metadata": {
  "kernelspec": {
   "display_name": "Python 3",
   "language": "python",
   "name": "python3"
  },
  "language_info": {
   "codemirror_mode": {
    "name": "ipython",
    "version": 3
   },
   "file_extension": ".py",
   "mimetype": "text/x-python",
   "name": "python",
   "nbconvert_exporter": "python",
   "pygments_lexer": "ipython3",
   "version": "3.8.3"
  }
 },
 "nbformat": 4,
 "nbformat_minor": 4
}
